{
 "cells": [
  {
   "cell_type": "markdown",
   "id": "382f5fb0",
   "metadata": {},
   "source": [
    "# Summary \n",
    "\n",
    "For this project on Unsupervised Machine Learning: Clustering, we will make use of 'WholeSale Customer Dataset' which has been sourced from uci. \n",
    "\n",
    "This dataset features the clients of wholesale distributor. It contains yearly spending on several product categories in monetary units (m.u.)\n",
    "\n",
    "Our objective in this project is to cluster this dataset as customer segments based on their yearly spending on the products and group the similar customers together using different clustering technic \n"
   ]
  },
  {
   "cell_type": "code",
   "execution_count": 1,
   "id": "2d9c1752",
   "metadata": {},
   "outputs": [],
   "source": [
    "import os\n",
    "import pandas as pd \n",
    "import numpy as np \n",
    "import matplotlib.pyplot as plt \n",
    "%matplotlib inline\n",
    "import seaborn as sns\n",
    "from sklearn.preprocessing import StandardScaler \n",
    "from sklearn.cluster import KMeans\n",
    "from sklearn.cluster import AgglomerativeClustering\n",
    "from scipy.cluster import hierarchy\n",
    "\n",
    "import warnings \n",
    "warnings.filterwarnings('ignore', module = 'sklearn')\n",
    "pd.options.display.float_format = '{:.2f}'.format"
   ]
  },
  {
   "cell_type": "code",
   "execution_count": 2,
   "id": "a4a396be",
   "metadata": {},
   "outputs": [],
   "source": [
    "os.chdir('data')"
   ]
  },
  {
   "cell_type": "code",
   "execution_count": 3,
   "id": "dbd0f7b1",
   "metadata": {},
   "outputs": [
    {
     "data": {
      "text/html": [
       "<div>\n",
       "<style scoped>\n",
       "    .dataframe tbody tr th:only-of-type {\n",
       "        vertical-align: middle;\n",
       "    }\n",
       "\n",
       "    .dataframe tbody tr th {\n",
       "        vertical-align: top;\n",
       "    }\n",
       "\n",
       "    .dataframe thead th {\n",
       "        text-align: right;\n",
       "    }\n",
       "</style>\n",
       "<table border=\"1\" class=\"dataframe\">\n",
       "  <thead>\n",
       "    <tr style=\"text-align: right;\">\n",
       "      <th></th>\n",
       "      <th>Channel</th>\n",
       "      <th>Region</th>\n",
       "      <th>Fresh</th>\n",
       "      <th>Milk</th>\n",
       "      <th>Grocery</th>\n",
       "      <th>Frozen</th>\n",
       "      <th>Detergents_Paper</th>\n",
       "      <th>Delicassen</th>\n",
       "    </tr>\n",
       "  </thead>\n",
       "  <tbody>\n",
       "    <tr>\n",
       "      <th>0</th>\n",
       "      <td>2</td>\n",
       "      <td>3</td>\n",
       "      <td>12669</td>\n",
       "      <td>9656</td>\n",
       "      <td>7561</td>\n",
       "      <td>214</td>\n",
       "      <td>2674</td>\n",
       "      <td>1338</td>\n",
       "    </tr>\n",
       "    <tr>\n",
       "      <th>1</th>\n",
       "      <td>2</td>\n",
       "      <td>3</td>\n",
       "      <td>7057</td>\n",
       "      <td>9810</td>\n",
       "      <td>9568</td>\n",
       "      <td>1762</td>\n",
       "      <td>3293</td>\n",
       "      <td>1776</td>\n",
       "    </tr>\n",
       "    <tr>\n",
       "      <th>2</th>\n",
       "      <td>2</td>\n",
       "      <td>3</td>\n",
       "      <td>6353</td>\n",
       "      <td>8808</td>\n",
       "      <td>7684</td>\n",
       "      <td>2405</td>\n",
       "      <td>3516</td>\n",
       "      <td>7844</td>\n",
       "    </tr>\n",
       "    <tr>\n",
       "      <th>3</th>\n",
       "      <td>1</td>\n",
       "      <td>3</td>\n",
       "      <td>13265</td>\n",
       "      <td>1196</td>\n",
       "      <td>4221</td>\n",
       "      <td>6404</td>\n",
       "      <td>507</td>\n",
       "      <td>1788</td>\n",
       "    </tr>\n",
       "    <tr>\n",
       "      <th>4</th>\n",
       "      <td>2</td>\n",
       "      <td>3</td>\n",
       "      <td>22615</td>\n",
       "      <td>5410</td>\n",
       "      <td>7198</td>\n",
       "      <td>3915</td>\n",
       "      <td>1777</td>\n",
       "      <td>5185</td>\n",
       "    </tr>\n",
       "  </tbody>\n",
       "</table>\n",
       "</div>"
      ],
      "text/plain": [
       "   Channel  Region  Fresh  Milk  Grocery  Frozen  Detergents_Paper  Delicassen\n",
       "0        2       3  12669  9656     7561     214              2674        1338\n",
       "1        2       3   7057  9810     9568    1762              3293        1776\n",
       "2        2       3   6353  8808     7684    2405              3516        7844\n",
       "3        1       3  13265  1196     4221    6404               507        1788\n",
       "4        2       3  22615  5410     7198    3915              1777        5185"
      ]
     },
     "execution_count": 3,
     "metadata": {},
     "output_type": "execute_result"
    }
   ],
   "source": [
    "data = pd.read_csv ('Wholesale%20customers%20data.csv', sep = ',')\n",
    "data.head()"
   ]
  },
  {
   "cell_type": "markdown",
   "id": "fa78773c",
   "metadata": {},
   "source": [
    "# Feature Analysis \n",
    "\n",
    "\n",
    "- <b>FRESH</b> : annual spending (m.u.) on fresh products (Continuous)\n",
    "\n",
    "\n",
    "- <b>MILK</b>: annual spending (m.u.) on milk products (Continuous)\n",
    "\n",
    "\n",
    "- <b>GROCERY</b>: annual spending (m.u.)on grocery products (Continuous)\n",
    "\n",
    "\n",
    "- <b>FROZEN</b>: annual spending (m.u.)on frozen products (Continuous)\n",
    "\n",
    "\n",
    "- <b>DETERGENTS_PAPER</b>: annual spending (m.u.) on detergents and paper products (Continuous)\n",
    "\n",
    "\n",
    "- <b>DELICATESSEN</b>: annual spending (m.u.)on and delicatessen products (Continuous);\n",
    "\n",
    "\n",
    "- <b>CHANNEL</b>: customers Channel - Horeca (1: Hotel/Restaurant/Cafe) or Retail channel (Nominal)."
   ]
  },
  {
   "cell_type": "code",
   "execution_count": 4,
   "id": "78f6c583",
   "metadata": {
    "scrolled": true
   },
   "outputs": [
    {
     "data": {
      "text/plain": [
       "(440, 8)"
      ]
     },
     "execution_count": 4,
     "metadata": {},
     "output_type": "execute_result"
    }
   ],
   "source": [
    "data.shape"
   ]
  },
  {
   "cell_type": "code",
   "execution_count": 5,
   "id": "c3df6b86",
   "metadata": {
    "scrolled": false
   },
   "outputs": [
    {
     "data": {
      "text/plain": [
       "Channel             int64\n",
       "Region              int64\n",
       "Fresh               int64\n",
       "Milk                int64\n",
       "Grocery             int64\n",
       "Frozen              int64\n",
       "Detergents_Paper    int64\n",
       "Delicassen          int64\n",
       "dtype: object"
      ]
     },
     "execution_count": 5,
     "metadata": {},
     "output_type": "execute_result"
    }
   ],
   "source": [
    "data.dtypes"
   ]
  },
  {
   "cell_type": "markdown",
   "id": "f60d0298",
   "metadata": {},
   "source": [
    "As our data only consist of continous except for featue 'Channel' and 'Region'. we will drop those two columns \n"
   ]
  },
  {
   "cell_type": "code",
   "execution_count": 6,
   "id": "1f6a8102",
   "metadata": {},
   "outputs": [],
   "source": [
    "data = data.drop(['Channel', 'Region'], axis = 1)"
   ]
  },
  {
   "cell_type": "code",
   "execution_count": 7,
   "id": "ecfbec28",
   "metadata": {
    "scrolled": false
   },
   "outputs": [
    {
     "data": {
      "text/html": [
       "<div>\n",
       "<style scoped>\n",
       "    .dataframe tbody tr th:only-of-type {\n",
       "        vertical-align: middle;\n",
       "    }\n",
       "\n",
       "    .dataframe tbody tr th {\n",
       "        vertical-align: top;\n",
       "    }\n",
       "\n",
       "    .dataframe thead th {\n",
       "        text-align: right;\n",
       "    }\n",
       "</style>\n",
       "<table border=\"1\" class=\"dataframe\">\n",
       "  <thead>\n",
       "    <tr style=\"text-align: right;\">\n",
       "      <th></th>\n",
       "      <th>Fresh</th>\n",
       "      <th>Milk</th>\n",
       "      <th>Grocery</th>\n",
       "      <th>Frozen</th>\n",
       "      <th>Detergents_Paper</th>\n",
       "      <th>Delicassen</th>\n",
       "    </tr>\n",
       "  </thead>\n",
       "  <tbody>\n",
       "    <tr>\n",
       "      <th>0</th>\n",
       "      <td>12669</td>\n",
       "      <td>9656</td>\n",
       "      <td>7561</td>\n",
       "      <td>214</td>\n",
       "      <td>2674</td>\n",
       "      <td>1338</td>\n",
       "    </tr>\n",
       "    <tr>\n",
       "      <th>1</th>\n",
       "      <td>7057</td>\n",
       "      <td>9810</td>\n",
       "      <td>9568</td>\n",
       "      <td>1762</td>\n",
       "      <td>3293</td>\n",
       "      <td>1776</td>\n",
       "    </tr>\n",
       "    <tr>\n",
       "      <th>2</th>\n",
       "      <td>6353</td>\n",
       "      <td>8808</td>\n",
       "      <td>7684</td>\n",
       "      <td>2405</td>\n",
       "      <td>3516</td>\n",
       "      <td>7844</td>\n",
       "    </tr>\n",
       "    <tr>\n",
       "      <th>3</th>\n",
       "      <td>13265</td>\n",
       "      <td>1196</td>\n",
       "      <td>4221</td>\n",
       "      <td>6404</td>\n",
       "      <td>507</td>\n",
       "      <td>1788</td>\n",
       "    </tr>\n",
       "    <tr>\n",
       "      <th>4</th>\n",
       "      <td>22615</td>\n",
       "      <td>5410</td>\n",
       "      <td>7198</td>\n",
       "      <td>3915</td>\n",
       "      <td>1777</td>\n",
       "      <td>5185</td>\n",
       "    </tr>\n",
       "    <tr>\n",
       "      <th>...</th>\n",
       "      <td>...</td>\n",
       "      <td>...</td>\n",
       "      <td>...</td>\n",
       "      <td>...</td>\n",
       "      <td>...</td>\n",
       "      <td>...</td>\n",
       "    </tr>\n",
       "    <tr>\n",
       "      <th>435</th>\n",
       "      <td>29703</td>\n",
       "      <td>12051</td>\n",
       "      <td>16027</td>\n",
       "      <td>13135</td>\n",
       "      <td>182</td>\n",
       "      <td>2204</td>\n",
       "    </tr>\n",
       "    <tr>\n",
       "      <th>436</th>\n",
       "      <td>39228</td>\n",
       "      <td>1431</td>\n",
       "      <td>764</td>\n",
       "      <td>4510</td>\n",
       "      <td>93</td>\n",
       "      <td>2346</td>\n",
       "    </tr>\n",
       "    <tr>\n",
       "      <th>437</th>\n",
       "      <td>14531</td>\n",
       "      <td>15488</td>\n",
       "      <td>30243</td>\n",
       "      <td>437</td>\n",
       "      <td>14841</td>\n",
       "      <td>1867</td>\n",
       "    </tr>\n",
       "    <tr>\n",
       "      <th>438</th>\n",
       "      <td>10290</td>\n",
       "      <td>1981</td>\n",
       "      <td>2232</td>\n",
       "      <td>1038</td>\n",
       "      <td>168</td>\n",
       "      <td>2125</td>\n",
       "    </tr>\n",
       "    <tr>\n",
       "      <th>439</th>\n",
       "      <td>2787</td>\n",
       "      <td>1698</td>\n",
       "      <td>2510</td>\n",
       "      <td>65</td>\n",
       "      <td>477</td>\n",
       "      <td>52</td>\n",
       "    </tr>\n",
       "  </tbody>\n",
       "</table>\n",
       "<p>440 rows × 6 columns</p>\n",
       "</div>"
      ],
      "text/plain": [
       "     Fresh   Milk  Grocery  Frozen  Detergents_Paper  Delicassen\n",
       "0    12669   9656     7561     214              2674        1338\n",
       "1     7057   9810     9568    1762              3293        1776\n",
       "2     6353   8808     7684    2405              3516        7844\n",
       "3    13265   1196     4221    6404               507        1788\n",
       "4    22615   5410     7198    3915              1777        5185\n",
       "..     ...    ...      ...     ...               ...         ...\n",
       "435  29703  12051    16027   13135               182        2204\n",
       "436  39228   1431      764    4510                93        2346\n",
       "437  14531  15488    30243     437             14841        1867\n",
       "438  10290   1981     2232    1038               168        2125\n",
       "439   2787   1698     2510      65               477          52\n",
       "\n",
       "[440 rows x 6 columns]"
      ]
     },
     "execution_count": 7,
     "metadata": {},
     "output_type": "execute_result"
    }
   ],
   "source": [
    "data"
   ]
  },
  {
   "cell_type": "code",
   "execution_count": 8,
   "id": "131bf625",
   "metadata": {
    "scrolled": false
   },
   "outputs": [
    {
     "data": {
      "text/plain": [
       "Fresh               0\n",
       "Milk                0\n",
       "Grocery             0\n",
       "Frozen              0\n",
       "Detergents_Paper    0\n",
       "Delicassen          0\n",
       "dtype: int64"
      ]
     },
     "execution_count": 8,
     "metadata": {},
     "output_type": "execute_result"
    }
   ],
   "source": [
    "data.isnull().sum()"
   ]
  },
  {
   "cell_type": "markdown",
   "id": "58d1eea8",
   "metadata": {},
   "source": [
    "<b>Quick Comments:</b>\n",
    "\n",
    "As all the attributes above are non-null and have equal nog rows , there seems to be no missing values. All the attributes are of numerical type "
   ]
  },
  {
   "cell_type": "markdown",
   "id": "70663aed",
   "metadata": {},
   "source": [
    "# EDA\n",
    "\n",
    "lets check for the distribution of our features variables and examine the amount of skewness\n"
   ]
  },
  {
   "cell_type": "code",
   "execution_count": 9,
   "id": "2a386330",
   "metadata": {
    "scrolled": true
   },
   "outputs": [
    {
     "data": {
      "image/png": "[encoded data removed]",
      "text/plain": [
       "<Figure size 432x288 with 1 Axes>"
      ]
     },
     "metadata": {
      "needs_background": "light"
     },
     "output_type": "display_data"
    }
   ],
   "source": [
    "ax = sns.boxplot(data=data, orient=\"h\")"
   ]
  },
  {
   "cell_type": "markdown",
   "id": "ec160c48",
   "metadata": {},
   "source": [
    "As one can notice we have skew in almost all our features.\n",
    "Now, we will log transform our skew variables for skew above 0.75"
   ]
  },
  {
   "cell_type": "code",
   "execution_count": 10,
   "id": "a3e6d65b",
   "metadata": {
    "scrolled": true
   },
   "outputs": [
    {
     "data": {
      "text/plain": [
       "Delicassen         11.15\n",
       "Frozen              5.91\n",
       "Milk                4.05\n",
       "Detergents_Paper    3.63\n",
       "Grocery             3.59\n",
       "Fresh               2.56\n",
       "dtype: float64"
      ]
     },
     "execution_count": 10,
     "metadata": {},
     "output_type": "execute_result"
    }
   ],
   "source": [
    "log_columns = data.skew().sort_values(ascending = False)\n",
    "log_columns = log_columns.loc[log_columns > 0.75]\n",
    "log_columns"
   ]
  },
  {
   "cell_type": "code",
   "execution_count": 11,
   "id": "d6495adb",
   "metadata": {},
   "outputs": [],
   "source": [
    "for col in log_columns.index:\n",
    "    data[col] = np.log1p(data[col])"
   ]
  },
  {
   "cell_type": "code",
   "execution_count": 12,
   "id": "6e24aab7",
   "metadata": {
    "scrolled": true
   },
   "outputs": [
    {
     "data": {
      "text/html": [
       "<div>\n",
       "<style scoped>\n",
       "    .dataframe tbody tr th:only-of-type {\n",
       "        vertical-align: middle;\n",
       "    }\n",
       "\n",
       "    .dataframe tbody tr th {\n",
       "        vertical-align: top;\n",
       "    }\n",
       "\n",
       "    .dataframe thead th {\n",
       "        text-align: right;\n",
       "    }\n",
       "</style>\n",
       "<table border=\"1\" class=\"dataframe\">\n",
       "  <thead>\n",
       "    <tr style=\"text-align: right;\">\n",
       "      <th></th>\n",
       "      <th>Fresh</th>\n",
       "      <th>Milk</th>\n",
       "      <th>Grocery</th>\n",
       "      <th>Frozen</th>\n",
       "      <th>Detergents_Paper</th>\n",
       "      <th>Delicassen</th>\n",
       "    </tr>\n",
       "  </thead>\n",
       "  <tbody>\n",
       "    <tr>\n",
       "      <th>0</th>\n",
       "      <td>9.45</td>\n",
       "      <td>9.18</td>\n",
       "      <td>8.93</td>\n",
       "      <td>5.37</td>\n",
       "      <td>7.89</td>\n",
       "      <td>7.20</td>\n",
       "    </tr>\n",
       "    <tr>\n",
       "      <th>1</th>\n",
       "      <td>8.86</td>\n",
       "      <td>9.19</td>\n",
       "      <td>9.17</td>\n",
       "      <td>7.47</td>\n",
       "      <td>8.10</td>\n",
       "      <td>7.48</td>\n",
       "    </tr>\n",
       "    <tr>\n",
       "      <th>2</th>\n",
       "      <td>8.76</td>\n",
       "      <td>9.08</td>\n",
       "      <td>8.95</td>\n",
       "      <td>7.79</td>\n",
       "      <td>8.17</td>\n",
       "      <td>8.97</td>\n",
       "    </tr>\n",
       "    <tr>\n",
       "      <th>3</th>\n",
       "      <td>9.49</td>\n",
       "      <td>7.09</td>\n",
       "      <td>8.35</td>\n",
       "      <td>8.76</td>\n",
       "      <td>6.23</td>\n",
       "      <td>7.49</td>\n",
       "    </tr>\n",
       "    <tr>\n",
       "      <th>4</th>\n",
       "      <td>10.03</td>\n",
       "      <td>8.60</td>\n",
       "      <td>8.88</td>\n",
       "      <td>8.27</td>\n",
       "      <td>7.48</td>\n",
       "      <td>8.55</td>\n",
       "    </tr>\n",
       "    <tr>\n",
       "      <th>...</th>\n",
       "      <td>...</td>\n",
       "      <td>...</td>\n",
       "      <td>...</td>\n",
       "      <td>...</td>\n",
       "      <td>...</td>\n",
       "      <td>...</td>\n",
       "    </tr>\n",
       "    <tr>\n",
       "      <th>435</th>\n",
       "      <td>10.30</td>\n",
       "      <td>9.40</td>\n",
       "      <td>9.68</td>\n",
       "      <td>9.48</td>\n",
       "      <td>5.21</td>\n",
       "      <td>7.70</td>\n",
       "    </tr>\n",
       "    <tr>\n",
       "      <th>436</th>\n",
       "      <td>10.58</td>\n",
       "      <td>7.27</td>\n",
       "      <td>6.64</td>\n",
       "      <td>8.41</td>\n",
       "      <td>4.54</td>\n",
       "      <td>7.76</td>\n",
       "    </tr>\n",
       "    <tr>\n",
       "      <th>437</th>\n",
       "      <td>9.58</td>\n",
       "      <td>9.65</td>\n",
       "      <td>10.32</td>\n",
       "      <td>6.08</td>\n",
       "      <td>9.61</td>\n",
       "      <td>7.53</td>\n",
       "    </tr>\n",
       "    <tr>\n",
       "      <th>438</th>\n",
       "      <td>9.24</td>\n",
       "      <td>7.59</td>\n",
       "      <td>7.71</td>\n",
       "      <td>6.95</td>\n",
       "      <td>5.13</td>\n",
       "      <td>7.66</td>\n",
       "    </tr>\n",
       "    <tr>\n",
       "      <th>439</th>\n",
       "      <td>7.93</td>\n",
       "      <td>7.44</td>\n",
       "      <td>7.83</td>\n",
       "      <td>4.19</td>\n",
       "      <td>6.17</td>\n",
       "      <td>3.97</td>\n",
       "    </tr>\n",
       "  </tbody>\n",
       "</table>\n",
       "<p>440 rows × 6 columns</p>\n",
       "</div>"
      ],
      "text/plain": [
       "     Fresh  Milk  Grocery  Frozen  Detergents_Paper  Delicassen\n",
       "0     9.45  9.18     8.93    5.37              7.89        7.20\n",
       "1     8.86  9.19     9.17    7.47              8.10        7.48\n",
       "2     8.76  9.08     8.95    7.79              8.17        8.97\n",
       "3     9.49  7.09     8.35    8.76              6.23        7.49\n",
       "4    10.03  8.60     8.88    8.27              7.48        8.55\n",
       "..     ...   ...      ...     ...               ...         ...\n",
       "435  10.30  9.40     9.68    9.48              5.21        7.70\n",
       "436  10.58  7.27     6.64    8.41              4.54        7.76\n",
       "437   9.58  9.65    10.32    6.08              9.61        7.53\n",
       "438   9.24  7.59     7.71    6.95              5.13        7.66\n",
       "439   7.93  7.44     7.83    4.19              6.17        3.97\n",
       "\n",
       "[440 rows x 6 columns]"
      ]
     },
     "execution_count": 12,
     "metadata": {},
     "output_type": "execute_result"
    }
   ],
   "source": [
    "data"
   ]
  },
  {
   "cell_type": "markdown",
   "id": "0bfc2e71",
   "metadata": {},
   "source": [
    "# Now lets Univariate data visualization of the features and their distribution "
   ]
  },
  {
   "cell_type": "code",
   "execution_count": 14,
   "id": "07b631cb",
   "metadata": {},
   "outputs": [
    {
     "data": {
      "image/png": "[encoded data removed]",
      "text/plain": [
       "<Figure size 936x1800 with 6 Axes>"
      ]
     },
     "metadata": {
      "needs_background": "light"
     },
     "output_type": "display_data"
    }
   ],
   "source": [
    "\n",
    "import itertools\n",
    "warnings.filterwarnings(\"ignore\")\n",
    "feature_cols = [x for x in data.columns]\n",
    "length = len(feature_cols)\n",
    "color = [\"b\",\"r\",\"g\",\"c\",\"m\",\"k\"]\n",
    "fig = plt.figure(figsize=(13,25))\n",
    "\n",
    "for i,j,k in itertools.zip_longest(feature_cols,range(length),color):\n",
    "    plt.subplot(4,2, j+1)\n",
    "    ax = sns.distplot(data[i],color=k,rug=True)\n",
    "    ax.set_facecolor(\"w\")\n",
    "    plt.axvline(data[i].mean(),linestyle=\"dashed\",label=\"mean\",color=k)\n",
    "    plt.legend(loc=\"best\")\n",
    "    plt.title(i,color=\"navy\")\n",
    "    plt.xlabel(\"\")"
   ]
  },
  {
   "cell_type": "markdown",
   "id": "40881d30",
   "metadata": {},
   "source": [
    "As one can notice. Now the distribution are fairly normal after we log transform the skew variables.\n"
   ]
  },
  {
   "cell_type": "markdown",
   "id": "ff9489db",
   "metadata": {},
   "source": [
    "# Scaling\n",
    "\n",
    "Now scaling our data to make sure all the features are on same scale before applying clustering technics \n"
   ]
  },
  {
   "cell_type": "code",
   "execution_count": 15,
   "id": "19b96772",
   "metadata": {
    "scrolled": true
   },
   "outputs": [
    {
     "data": {
      "text/html": [
       "<div>\n",
       "<style scoped>\n",
       "    .dataframe tbody tr th:only-of-type {\n",
       "        vertical-align: middle;\n",
       "    }\n",
       "\n",
       "    .dataframe tbody tr th {\n",
       "        vertical-align: top;\n",
       "    }\n",
       "\n",
       "    .dataframe thead th {\n",
       "        text-align: right;\n",
       "    }\n",
       "</style>\n",
       "<table border=\"1\" class=\"dataframe\">\n",
       "  <thead>\n",
       "    <tr style=\"text-align: right;\">\n",
       "      <th></th>\n",
       "      <th>Fresh</th>\n",
       "      <th>Milk</th>\n",
       "      <th>Grocery</th>\n",
       "      <th>Frozen</th>\n",
       "      <th>Detergents_Paper</th>\n",
       "      <th>Delicassen</th>\n",
       "    </tr>\n",
       "  </thead>\n",
       "  <tbody>\n",
       "    <tr>\n",
       "      <th>0</th>\n",
       "      <td>0.49</td>\n",
       "      <td>0.98</td>\n",
       "      <td>0.44</td>\n",
       "      <td>-1.51</td>\n",
       "      <td>0.64</td>\n",
       "      <td>0.41</td>\n",
       "    </tr>\n",
       "    <tr>\n",
       "      <th>1</th>\n",
       "      <td>0.09</td>\n",
       "      <td>0.99</td>\n",
       "      <td>0.65</td>\n",
       "      <td>0.13</td>\n",
       "      <td>0.77</td>\n",
       "      <td>0.63</td>\n",
       "    </tr>\n",
       "    <tr>\n",
       "      <th>2</th>\n",
       "      <td>0.02</td>\n",
       "      <td>0.89</td>\n",
       "      <td>0.45</td>\n",
       "      <td>0.38</td>\n",
       "      <td>0.80</td>\n",
       "      <td>1.78</td>\n",
       "    </tr>\n",
       "    <tr>\n",
       "      <th>3</th>\n",
       "      <td>0.52</td>\n",
       "      <td>-0.96</td>\n",
       "      <td>-0.08</td>\n",
       "      <td>1.14</td>\n",
       "      <td>-0.33</td>\n",
       "      <td>0.63</td>\n",
       "    </tr>\n",
       "    <tr>\n",
       "      <th>4</th>\n",
       "      <td>0.88</td>\n",
       "      <td>0.44</td>\n",
       "      <td>0.40</td>\n",
       "      <td>0.76</td>\n",
       "      <td>0.40</td>\n",
       "      <td>1.46</td>\n",
       "    </tr>\n",
       "    <tr>\n",
       "      <th>...</th>\n",
       "      <td>...</td>\n",
       "      <td>...</td>\n",
       "      <td>...</td>\n",
       "      <td>...</td>\n",
       "      <td>...</td>\n",
       "      <td>...</td>\n",
       "    </tr>\n",
       "    <tr>\n",
       "      <th>435</th>\n",
       "      <td>1.07</td>\n",
       "      <td>1.18</td>\n",
       "      <td>1.12</td>\n",
       "      <td>1.70</td>\n",
       "      <td>-0.93</td>\n",
       "      <td>0.79</td>\n",
       "    </tr>\n",
       "    <tr>\n",
       "      <th>436</th>\n",
       "      <td>1.26</td>\n",
       "      <td>-0.79</td>\n",
       "      <td>-1.62</td>\n",
       "      <td>0.87</td>\n",
       "      <td>-1.32</td>\n",
       "      <td>0.84</td>\n",
       "    </tr>\n",
       "    <tr>\n",
       "      <th>437</th>\n",
       "      <td>0.58</td>\n",
       "      <td>1.41</td>\n",
       "      <td>1.69</td>\n",
       "      <td>-0.95</td>\n",
       "      <td>1.65</td>\n",
       "      <td>0.67</td>\n",
       "    </tr>\n",
       "    <tr>\n",
       "      <th>438</th>\n",
       "      <td>0.34</td>\n",
       "      <td>-0.49</td>\n",
       "      <td>-0.66</td>\n",
       "      <td>-0.28</td>\n",
       "      <td>-0.97</td>\n",
       "      <td>0.77</td>\n",
       "    </tr>\n",
       "    <tr>\n",
       "      <th>439</th>\n",
       "      <td>-0.54</td>\n",
       "      <td>-0.63</td>\n",
       "      <td>-0.55</td>\n",
       "      <td>-2.43</td>\n",
       "      <td>-0.36</td>\n",
       "      <td>-2.09</td>\n",
       "    </tr>\n",
       "  </tbody>\n",
       "</table>\n",
       "<p>440 rows × 6 columns</p>\n",
       "</div>"
      ],
      "text/plain": [
       "     Fresh  Milk  Grocery  Frozen  Detergents_Paper  Delicassen\n",
       "0     0.49  0.98     0.44   -1.51              0.64        0.41\n",
       "1     0.09  0.99     0.65    0.13              0.77        0.63\n",
       "2     0.02  0.89     0.45    0.38              0.80        1.78\n",
       "3     0.52 -0.96    -0.08    1.14             -0.33        0.63\n",
       "4     0.88  0.44     0.40    0.76              0.40        1.46\n",
       "..     ...   ...      ...     ...               ...         ...\n",
       "435   1.07  1.18     1.12    1.70             -0.93        0.79\n",
       "436   1.26 -0.79    -1.62    0.87             -1.32        0.84\n",
       "437   0.58  1.41     1.69   -0.95              1.65        0.67\n",
       "438   0.34 -0.49    -0.66   -0.28             -0.97        0.77\n",
       "439  -0.54 -0.63    -0.55   -2.43             -0.36       -2.09\n",
       "\n",
       "[440 rows x 6 columns]"
      ]
     },
     "execution_count": 15,
     "metadata": {},
     "output_type": "execute_result"
    }
   ],
   "source": [
    "ss = StandardScaler()\n",
    "\n",
    "for col in feature_cols:\n",
    "    data[col] = ss.fit_transform(data[[col]])\n",
    "data\n"
   ]
  },
  {
   "cell_type": "code",
   "execution_count": 16,
   "id": "b8c49573",
   "metadata": {},
   "outputs": [],
   "source": [
    "X_data = data.copy()"
   ]
  },
  {
   "cell_type": "markdown",
   "id": "10f5394b",
   "metadata": {},
   "source": [
    "# Clustering models\n",
    "\n",
    "First we will use <b>KMeans</b> model to see how increasing the number of cluster results in low inertia value and there by increasing efficiency.\n",
    "\n",
    "After that we will use <b>hierarchy</b> clustering to see the clusters and it's thresold. We will visualize it on dendogram.\n",
    "\n",
    "At last we will use <b>Agglomerative</b> Clustering and see the result on scatter plot using some of our features with Agglomerative Clustering label.\n"
   ]
  },
  {
   "cell_type": "markdown",
   "id": "dd479d73",
   "metadata": {},
   "source": [
    "# KMeans"
   ]
  },
  {
   "cell_type": "code",
   "execution_count": 17,
   "id": "bddcd43f",
   "metadata": {
    "scrolled": true
   },
   "outputs": [
    {
     "data": {
      "text/html": [
       "<div>\n",
       "<style scoped>\n",
       "    .dataframe tbody tr th:only-of-type {\n",
       "        vertical-align: middle;\n",
       "    }\n",
       "\n",
       "    .dataframe tbody tr th {\n",
       "        vertical-align: top;\n",
       "    }\n",
       "\n",
       "    .dataframe thead th {\n",
       "        text-align: right;\n",
       "    }\n",
       "</style>\n",
       "<table border=\"1\" class=\"dataframe\">\n",
       "  <thead>\n",
       "    <tr style=\"text-align: right;\">\n",
       "      <th></th>\n",
       "      <th>cluster</th>\n",
       "      <th>inertia</th>\n",
       "      <th>model</th>\n",
       "    </tr>\n",
       "  </thead>\n",
       "  <tbody>\n",
       "    <tr>\n",
       "      <th>0</th>\n",
       "      <td>1</td>\n",
       "      <td>2640.00</td>\n",
       "      <td>KMeans(n_clusters=1, random_state=42)</td>\n",
       "    </tr>\n",
       "    <tr>\n",
       "      <th>1</th>\n",
       "      <td>2</td>\n",
       "      <td>1844.06</td>\n",
       "      <td>KMeans(n_clusters=2, random_state=42)</td>\n",
       "    </tr>\n",
       "    <tr>\n",
       "      <th>2</th>\n",
       "      <td>3</td>\n",
       "      <td>1553.39</td>\n",
       "      <td>KMeans(n_clusters=3, random_state=42)</td>\n",
       "    </tr>\n",
       "    <tr>\n",
       "      <th>3</th>\n",
       "      <td>4</td>\n",
       "      <td>1386.86</td>\n",
       "      <td>KMeans(n_clusters=4, random_state=42)</td>\n",
       "    </tr>\n",
       "    <tr>\n",
       "      <th>4</th>\n",
       "      <td>5</td>\n",
       "      <td>1266.26</td>\n",
       "      <td>KMeans(n_clusters=5, random_state=42)</td>\n",
       "    </tr>\n",
       "    <tr>\n",
       "      <th>5</th>\n",
       "      <td>6</td>\n",
       "      <td>1174.76</td>\n",
       "      <td>KMeans(n_clusters=6, random_state=42)</td>\n",
       "    </tr>\n",
       "  </tbody>\n",
       "</table>\n",
       "</div>"
      ],
      "text/plain": [
       "  cluster inertia                                  model\n",
       "0       1 2640.00  KMeans(n_clusters=1, random_state=42)\n",
       "1       2 1844.06  KMeans(n_clusters=2, random_state=42)\n",
       "2       3 1553.39  KMeans(n_clusters=3, random_state=42)\n",
       "3       4 1386.86  KMeans(n_clusters=4, random_state=42)\n",
       "4       5 1266.26  KMeans(n_clusters=5, random_state=42)\n",
       "5       6 1174.76  KMeans(n_clusters=6, random_state=42)"
      ]
     },
     "execution_count": 17,
     "metadata": {},
     "output_type": "execute_result"
    }
   ],
   "source": [
    "km_list = list()\n",
    "for clust in range(1,7):\n",
    "    \n",
    "    km = KMeans(n_clusters = clust, random_state =42)\n",
    "    km = km.fit(data[feature_cols])\n",
    "    km_list.append(pd.Series({'cluster': clust,\n",
    "                              'inertia': km.inertia_,\n",
    "                              'model': km}))\n",
    "km_df = pd.concat(km_list, axis =1).T\n",
    "km_df"
   ]
  },
  {
   "cell_type": "code",
   "execution_count": 18,
   "id": "b5dc2984",
   "metadata": {
    "scrolled": true
   },
   "outputs": [
    {
     "data": {
      "text/plain": [
       "<Figure size 720x576 with 0 Axes>"
      ]
     },
     "metadata": {},
     "output_type": "display_data"
    },
    {
     "data": {
      "image/png": "[encoded data removed]",
      "text/plain": [
       "<Figure size 432x288 with 1 Axes>"
      ]
     },
     "metadata": {
      "needs_background": "light"
     },
     "output_type": "display_data"
    }
   ],
   "source": [
    "figure = plt.figure(figsize = (10,8))\n",
    "km_df_plot = km_df[['cluster', 'inertia']].set_index('cluster')\n",
    "ax = km_df_plot.plot(marker = 'o', ls = '-')\n",
    "\n",
    "ax.set_xlim(0,7)\n",
    "ax.set_xticks(range(0,7,1));\n",
    "ax.set(xlabel = 'Cluster', ylabel= 'Inertia');"
   ]
  },
  {
   "cell_type": "markdown",
   "id": "8d10ffdb",
   "metadata": {},
   "source": [
    "As expected, inertia is coming down as we increase the number of cluster for our model."
   ]
  },
  {
   "cell_type": "markdown",
   "id": "108abf35",
   "metadata": {},
   "source": [
    "# Hierarchy Cluster\n"
   ]
  },
  {
   "cell_type": "code",
   "execution_count": 19,
   "id": "e6858b03",
   "metadata": {
    "scrolled": false
   },
   "outputs": [
    {
     "data": {
      "image/png": "[encoded data removed]",
      "text/plain": [
       "<Figure size 1080x576 with 1 Axes>"
      ]
     },
     "metadata": {
      "needs_background": "light"
     },
     "output_type": "display_data"
    }
   ],
   "source": [
    "z = hierarchy.linkage(data, method = 'ward')\n",
    "fig,ax = plt.subplots(figsize = (15,8))\n",
    "\n",
    "red= color[1]\n",
    "blue = color[0]\n",
    "hierarchy.set_link_color_palette ([red, 'blue'])\n",
    "den = hierarchy.dendrogram(z, orientation = 'top',\n",
    "                         truncate_mode = 'lastp', p = 100,\n",
    "                         show_leaf_counts = True, \n",
    "                         ax = ax , above_threshold_color = 'black')\n",
    "ax.axhline (y= 25, color='y', ls = '-');\n"
   ]
  },
  {
   "cell_type": "markdown",
   "id": "a05b5c8b",
   "metadata": {},
   "source": [
    "In this dendrogram, x-axis represents data points and y_axis represent distance between them. We can see the black verticle line is the maximum distance and hence we know that 25 is thresold here, which is represented by yellow horizontal line."
   ]
  },
  {
   "cell_type": "markdown",
   "id": "998fe98d",
   "metadata": {},
   "source": [
    "# Agglomerative Clustering \n"
   ]
  },
  {
   "cell_type": "code",
   "execution_count": 20,
   "id": "eb4a7d29",
   "metadata": {
    "scrolled": true
   },
   "outputs": [
    {
     "data": {
      "text/plain": [
       "array([0, 0, 0, 1, 1, 0, 1, 0, 1, 0, 0, 1, 0, 0, 0, 1, 0, 1, 0, 1, 0, 1,\n",
       "       1, 1, 0, 0, 1, 1, 0, 1, 0, 1, 1, 1, 1, 0, 0, 0, 0, 1, 1, 0, 0, 0,\n",
       "       0, 0, 0, 0, 0, 0, 1, 0, 1, 0, 1, 1, 0, 0, 1, 0, 0, 0, 0, 0, 1, 0,\n",
       "       0, 0, 1, 1, 1, 1, 1, 1, 0, 1, 1, 0, 1, 1, 1, 0, 0, 1, 0, 0, 0, 1,\n",
       "       1, 1, 1, 1, 0, 1, 0, 0, 0, 0, 0, 1, 0, 0, 0, 1, 1, 1, 0, 0, 0, 0,\n",
       "       1, 0, 1, 1, 1, 1, 1, 1, 1, 1, 1, 1, 1, 0, 1, 1, 1, 0, 0, 1, 1, 0,\n",
       "       1, 1, 1, 1, 0, 0, 1, 1, 0, 1, 0, 1, 1, 0, 1, 1, 1, 1, 1, 1, 1, 1,\n",
       "       0, 0, 0, 1, 0, 0, 0, 1, 1, 0, 0, 0, 0, 1, 1, 1, 0, 0, 0, 0, 1, 0,\n",
       "       1, 1, 1, 1, 0, 1, 0, 1, 0, 1, 1, 0, 0, 0, 1, 1, 1, 0, 1, 1, 1, 0,\n",
       "       1, 1, 0, 0, 1, 0, 1, 0, 1, 0, 0, 0, 1, 0, 1, 0, 0, 0, 0, 1, 0, 1,\n",
       "       1, 0, 1, 1, 1, 1, 0, 1, 1, 1, 1, 0, 1, 0, 1, 0, 1, 1, 1, 1, 1, 1,\n",
       "       1, 0, 0, 0, 1, 1, 1, 1, 1, 0, 1, 1, 1, 1, 1, 1, 1, 1, 1, 1, 1, 1,\n",
       "       0, 1, 0, 1, 0, 1, 1, 1, 1, 1, 1, 0, 1, 1, 1, 0, 1, 0, 1, 1, 1, 1,\n",
       "       1, 1, 1, 1, 1, 1, 1, 0, 1, 1, 1, 0, 0, 0, 0, 0, 0, 0, 0, 0, 0, 1,\n",
       "       1, 0, 1, 1, 0, 1, 1, 0, 1, 1, 1, 0, 1, 1, 1, 1, 1, 1, 1, 0, 1, 1,\n",
       "       1, 0, 1, 0, 1, 0, 1, 1, 0, 1, 0, 0, 0, 0, 1, 0, 0, 0, 1, 0, 1, 0,\n",
       "       0, 0, 1, 0, 1, 0, 1, 1, 1, 1, 1, 1, 1, 0, 1, 1, 1, 1, 0, 1, 1, 0,\n",
       "       1, 1, 0, 1, 1, 0, 1, 1, 0, 1, 1, 1, 1, 1, 1, 1, 1, 1, 1, 1, 1, 1,\n",
       "       0, 1, 1, 1, 1, 1, 1, 1, 1, 1, 1, 0, 0, 0, 1, 1, 0, 1, 1, 0, 0, 0,\n",
       "       0, 1, 0, 0, 1, 1, 0, 1, 0, 1, 0, 1, 1, 1, 1, 1, 1, 1, 1, 0, 1, 0])"
      ]
     },
     "execution_count": 20,
     "metadata": {},
     "output_type": "execute_result"
    }
   ],
   "source": [
    "ag = AgglomerativeClustering(n_clusters = 2,affinity='euclidean', linkage = 'ward',compute_full_tree = True)\n",
    "ag = ag.fit(data[feature_cols])\n",
    "y_pred = ag.fit_predict(data[feature_cols])\n",
    "y_pred"
   ]
  },
  {
   "cell_type": "code",
   "execution_count": 21,
   "id": "6105c01f",
   "metadata": {
    "scrolled": false
   },
   "outputs": [
    {
     "data": {
      "text/plain": [
       "<matplotlib.collections.PathCollection at 0x7fa0c48f6940>"
      ]
     },
     "execution_count": 21,
     "metadata": {},
     "output_type": "execute_result"
    },
    {
     "data": {
      "image/png": "[encoded data removed]",
      "text/plain": [
       "<Figure size 1080x576 with 1 Axes>"
      ]
     },
     "metadata": {
      "needs_background": "light"
     },
     "output_type": "display_data"
    }
   ],
   "source": [
    "plt.figure(figsize = (15,8))\n",
    "plt.scatter(data['Milk'], data['Grocery'], c = ag.labels_)"
   ]
  },
  {
   "cell_type": "markdown",
   "id": "77a73e5c",
   "metadata": {},
   "source": [
    "# Results\n",
    "\n",
    "You can visualize from the above plot that we were able to classifly milk and grocery dataset to two different cluster using Agglomerative Clustering. \n",
    " \n",
    "Using KMeans, we also came to know that, inertia value decreases as we increase the number of cluster.\n"
   ]
  },
  {
   "cell_type": "markdown",
   "id": "7809c1d6",
   "metadata": {},
   "source": [
    "# Next Steps\n",
    "\n",
    "we can use Principal component analysis for more robust results and using gridsearchcv we can tune in the ideal hyper paramters for different clustering technics \n"
   ]
  }
 ],
 "metadata": {
  "kernelspec": {
   "display_name": "Python 3 (ipykernel)",
   "language": "python",
   "name": "python3"
  },
  "language_info": {
   "codemirror_mode": {
    "name": "ipython",
    "version": 3
   },
   "file_extension": ".py",
   "mimetype": "text/x-python",
   "name": "python",
   "nbconvert_exporter": "python",
   "pygments_lexer": "ipython3",
   "version": "3.9.7"
  }
 },
 "nbformat": 4,
 "nbformat_minor": 5
}
