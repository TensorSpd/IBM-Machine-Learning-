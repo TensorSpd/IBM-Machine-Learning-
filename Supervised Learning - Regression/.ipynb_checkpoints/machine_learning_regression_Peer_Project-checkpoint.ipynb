{
 "cells": [
  {
   "cell_type": "markdown",
   "id": "8e26b35a",
   "metadata": {},
   "source": [
    "# Summary\n",
    "\n",
    "The dataset has been taken from Kaggle for peer project purpose, which is about the \"Impact of the Covid-19 Pandemic on the Global Economy: An Emphasis on Poverty Alleviation and Economic Growth\" comes from Mendeley Data. The data I'm looking at comprises of statistics from 210 nations on the effects of covid-19 on the global economy."
   ]
  },
  {
   "cell_type": "markdown",
   "id": "c7559e5c",
   "metadata": {},
   "source": [
    "The purpose of this analysis is to primarily focus on prediction. In this project, after implementing linear regression algorithms to find the interrelation between between target and certain variables like common GDP and human development index and total number of death. After going through the results of all the model, we will choose the optimal algorithm considering the preliminary results. The goal is to deploy a model which accurately predicts how GDP of each country is impacted by various factors.\n"
   ]
  },
  {
   "cell_type": "markdown",
   "id": "9bb785e3",
   "metadata": {},
   "source": [
    "# Exploratory Data Analysis \n",
    " "
   ]
  },
  {
   "cell_type": "code",
   "execution_count": 1,
   "id": "99b6d41d",
   "metadata": {},
   "outputs": [],
   "source": [
    "import pandas as pd \n",
    "import numpy as np \n",
    "import seaborn as sns\n",
    "import matplotlib.pyplot as plt \n",
    "from sklearn.preprocessing import MinMaxScaler \n",
    "from sklearn.metrics import r2_score, mean_squared_error\n",
    "from sklearn.preprocessing import StandardScaler, PolynomialFeatures\n",
    "from sklearn.model_selection import KFold, cross_val_predict\n",
    "from sklearn.linear_model import LinearRegression, Lasso, Ridge, RidgeCV, LassoCV, ElasticNetCV\n",
    "from sklearn.pipeline import Pipeline\n",
    "\n",
    "#for muting the sklearn warning about regulariztion \n",
    "import warnings \n",
    "warnings.filterwarnings('ignore', module ='sklearn')\n",
    "\n",
    "%matplotlib inline"
   ]
  },
  {
   "cell_type": "code",
   "execution_count": 2,
   "id": "c8b61935",
   "metadata": {},
   "outputs": [
    {
     "data": {
      "text/html": [
       "<div>\n",
       "<style scoped>\n",
       "    .dataframe tbody tr th:only-of-type {\n",
       "        vertical-align: middle;\n",
       "    }\n",
       "\n",
       "    .dataframe tbody tr th {\n",
       "        vertical-align: top;\n",
       "    }\n",
       "\n",
       "    .dataframe thead th {\n",
       "        text-align: right;\n",
       "    }\n",
       "</style>\n",
       "<table border=\"1\" class=\"dataframe\">\n",
       "  <thead>\n",
       "    <tr style=\"text-align: right;\">\n",
       "      <th></th>\n",
       "      <th>iso_code</th>\n",
       "      <th>location</th>\n",
       "      <th>date</th>\n",
       "      <th>total_cases</th>\n",
       "      <th>total_deaths</th>\n",
       "      <th>stringency_index</th>\n",
       "      <th>population</th>\n",
       "      <th>gdp_per_capita</th>\n",
       "      <th>human_development_index</th>\n",
       "      <th>Unnamed: 9</th>\n",
       "      <th>Unnamed: 10</th>\n",
       "      <th>Unnamed: 11</th>\n",
       "      <th>Unnamed: 12</th>\n",
       "      <th>Unnamed: 13</th>\n",
       "    </tr>\n",
       "  </thead>\n",
       "  <tbody>\n",
       "    <tr>\n",
       "      <th>0</th>\n",
       "      <td>AFG</td>\n",
       "      <td>Afghanistan</td>\n",
       "      <td>2019-12-31</td>\n",
       "      <td>0.0</td>\n",
       "      <td>0.0</td>\n",
       "      <td>0.0</td>\n",
       "      <td>38928341</td>\n",
       "      <td>1803.987</td>\n",
       "      <td>0.498</td>\n",
       "      <td>#NUM!</td>\n",
       "      <td>#NUM!</td>\n",
       "      <td>#NUM!</td>\n",
       "      <td>17.477233</td>\n",
       "      <td>7.497754494</td>\n",
       "    </tr>\n",
       "    <tr>\n",
       "      <th>1</th>\n",
       "      <td>AFG</td>\n",
       "      <td>Afghanistan</td>\n",
       "      <td>2020-01-01</td>\n",
       "      <td>0.0</td>\n",
       "      <td>0.0</td>\n",
       "      <td>0.0</td>\n",
       "      <td>38928341</td>\n",
       "      <td>1803.987</td>\n",
       "      <td>0.498</td>\n",
       "      <td>#NUM!</td>\n",
       "      <td>#NUM!</td>\n",
       "      <td>#NUM!</td>\n",
       "      <td>17.477233</td>\n",
       "      <td>7.497754494</td>\n",
       "    </tr>\n",
       "    <tr>\n",
       "      <th>2</th>\n",
       "      <td>AFG</td>\n",
       "      <td>Afghanistan</td>\n",
       "      <td>2020-01-02</td>\n",
       "      <td>0.0</td>\n",
       "      <td>0.0</td>\n",
       "      <td>0.0</td>\n",
       "      <td>38928341</td>\n",
       "      <td>1803.987</td>\n",
       "      <td>0.498</td>\n",
       "      <td>#NUM!</td>\n",
       "      <td>#NUM!</td>\n",
       "      <td>#NUM!</td>\n",
       "      <td>17.477233</td>\n",
       "      <td>7.497754494</td>\n",
       "    </tr>\n",
       "    <tr>\n",
       "      <th>3</th>\n",
       "      <td>AFG</td>\n",
       "      <td>Afghanistan</td>\n",
       "      <td>2020-01-03</td>\n",
       "      <td>0.0</td>\n",
       "      <td>0.0</td>\n",
       "      <td>0.0</td>\n",
       "      <td>38928341</td>\n",
       "      <td>1803.987</td>\n",
       "      <td>0.498</td>\n",
       "      <td>#NUM!</td>\n",
       "      <td>#NUM!</td>\n",
       "      <td>#NUM!</td>\n",
       "      <td>17.477233</td>\n",
       "      <td>7.497754494</td>\n",
       "    </tr>\n",
       "    <tr>\n",
       "      <th>4</th>\n",
       "      <td>AFG</td>\n",
       "      <td>Afghanistan</td>\n",
       "      <td>2020-01-04</td>\n",
       "      <td>0.0</td>\n",
       "      <td>0.0</td>\n",
       "      <td>0.0</td>\n",
       "      <td>38928341</td>\n",
       "      <td>1803.987</td>\n",
       "      <td>0.498</td>\n",
       "      <td>#NUM!</td>\n",
       "      <td>#NUM!</td>\n",
       "      <td>#NUM!</td>\n",
       "      <td>17.477233</td>\n",
       "      <td>7.497754494</td>\n",
       "    </tr>\n",
       "  </tbody>\n",
       "</table>\n",
       "</div>"
      ],
      "text/plain": [
       "  iso_code     location        date  total_cases  total_deaths  \\\n",
       "0      AFG  Afghanistan  2019-12-31          0.0           0.0   \n",
       "1      AFG  Afghanistan  2020-01-01          0.0           0.0   \n",
       "2      AFG  Afghanistan  2020-01-02          0.0           0.0   \n",
       "3      AFG  Afghanistan  2020-01-03          0.0           0.0   \n",
       "4      AFG  Afghanistan  2020-01-04          0.0           0.0   \n",
       "\n",
       "   stringency_index  population  gdp_per_capita  human_development_index  \\\n",
       "0               0.0    38928341        1803.987                    0.498   \n",
       "1               0.0    38928341        1803.987                    0.498   \n",
       "2               0.0    38928341        1803.987                    0.498   \n",
       "3               0.0    38928341        1803.987                    0.498   \n",
       "4               0.0    38928341        1803.987                    0.498   \n",
       "\n",
       "  Unnamed: 9 Unnamed: 10 Unnamed: 11  Unnamed: 12  Unnamed: 13  \n",
       "0      #NUM!       #NUM!       #NUM!    17.477233  7.497754494  \n",
       "1      #NUM!       #NUM!       #NUM!    17.477233  7.497754494  \n",
       "2      #NUM!       #NUM!       #NUM!    17.477233  7.497754494  \n",
       "3      #NUM!       #NUM!       #NUM!    17.477233  7.497754494  \n",
       "4      #NUM!       #NUM!       #NUM!    17.477233  7.497754494  "
      ]
     },
     "execution_count": 2,
     "metadata": {},
     "output_type": "execute_result"
    }
   ],
   "source": [
    "df = pd.read_csv('raw_data.csv', sep = ',')\n",
    "df.head()\n"
   ]
  },
  {
   "cell_type": "code",
   "execution_count": 3,
   "id": "001c9aa9",
   "metadata": {
    "scrolled": true
   },
   "outputs": [
    {
     "data": {
      "text/plain": [
       "158"
      ]
     },
     "execution_count": 3,
     "metadata": {},
     "output_type": "execute_result"
    }
   ],
   "source": [
    "len(df['human_development_index'].unique())"
   ]
  },
  {
   "cell_type": "code",
   "execution_count": 4,
   "id": "0fd40a32",
   "metadata": {
    "scrolled": true
   },
   "outputs": [
    {
     "name": "stdout",
     "output_type": "stream",
     "text": [
      "<class 'pandas.core.frame.DataFrame'>\n",
      "RangeIndex: 50418 entries, 0 to 50417\n",
      "Data columns (total 14 columns):\n",
      " #   Column                   Non-Null Count  Dtype  \n",
      "---  ------                   --------------  -----  \n",
      " 0   iso_code                 50418 non-null  object \n",
      " 1   location                 50418 non-null  object \n",
      " 2   date                     50418 non-null  object \n",
      " 3   total_cases              47324 non-null  float64\n",
      " 4   total_deaths             39228 non-null  float64\n",
      " 5   stringency_index         43292 non-null  float64\n",
      " 6   population               50418 non-null  int64  \n",
      " 7   gdp_per_capita           44706 non-null  float64\n",
      " 8   human_development_index  44216 non-null  float64\n",
      " 9   Unnamed: 9               50418 non-null  object \n",
      " 10  Unnamed: 10              50418 non-null  object \n",
      " 11  Unnamed: 11              50418 non-null  object \n",
      " 12  Unnamed: 12              50418 non-null  float64\n",
      " 13  Unnamed: 13              50418 non-null  object \n",
      "dtypes: float64(6), int64(1), object(7)\n",
      "memory usage: 5.4+ MB\n"
     ]
    }
   ],
   "source": [
    "df.info() "
   ]
  },
  {
   "cell_type": "markdown",
   "id": "38b4fbba",
   "metadata": {},
   "source": [
    "Some information about this dataset"
   ]
  },
  {
   "cell_type": "code",
   "execution_count": 5,
   "id": "1b834c06",
   "metadata": {
    "scrolled": true
   },
   "outputs": [
    {
     "name": "stdout",
     "output_type": "stream",
     "text": [
      "sum of all records: 50418\n",
      "\n",
      "columns names: ['iso_code', 'location', 'date', 'total_cases', 'total_deaths', 'stringency_index', 'population', 'gdp_per_capita', 'human_development_index', 'Unnamed: 9', 'Unnamed: 10', 'Unnamed: 11', 'Unnamed: 12', 'Unnamed: 13']\n",
      "\n",
      "Number of countries: 210\n",
      "\n",
      "Number of null_values in each column: \n",
      "iso_code                       0\n",
      "location                       0\n",
      "date                           0\n",
      "total_cases                 3094\n",
      "total_deaths               11190\n",
      "stringency_index            7126\n",
      "population                     0\n",
      "gdp_per_capita              5712\n",
      "human_development_index     6202\n",
      "Unnamed: 9                     0\n",
      "Unnamed: 10                    0\n",
      "Unnamed: 11                    0\n",
      "Unnamed: 12                    0\n",
      "Unnamed: 13                    0\n",
      "dtype: int64\n"
     ]
    }
   ],
   "source": [
    "print('sum of all records: ' +str(len(df.index)))\n",
    "print ('')\n",
    "print('columns names: ' +str(df.columns.to_list()))\n",
    "print('')\n",
    "print('Number of countries: ' +str(len(df['location'].unique())))\n",
    "print('')\n",
    "print('Number of null_values in each column: \\n' +str(df.isnull().sum()))"
   ]
  },
  {
   "cell_type": "markdown",
   "id": "fa482aa5",
   "metadata": {},
   "source": [
    "# Feature Analysis\n",
    "\n",
    "Some of description about data features are presented below:"
   ]
  },
  {
   "cell_type": "markdown",
   "id": "cb1b96c5",
   "metadata": {},
   "source": [
    "<b>iso_code</b>: country code \n",
    "\n",
    "<b>location</b>: name of the country\n",
    "\n",
    "<b>total_cases</b>: sum of covid19 cases \n",
    "\n",
    "<b>total_death</b>: sum of death caused by covid19\n",
    "\n",
    "<b>stringency_index</b>: The Stringency index provides a computable parameter to evaluate the effectiveness of the nationwide lockdown. It is used by the Oxford Covid-19 Government Response Tracker with a database of 17 indicators of government response such as a school and workplace closing along with guidelines on public events and gatherings. The Stringency Index is a number from 0 to 100 that reflects these indicators, '0' being the lower and '100' being the higher level of stringency.\n",
    "\n",
    "<b>population</b>: represents the sum of population of a country\n",
    "\n",
    "<b>gdp_per_captia</b>: Per capita gross domestic product (GDP) is a financial metric that breaks down a country's economic output per person and is calculated by dividing the GDP of a nation by its population. It's a measure of economic activity.\n",
    "\n",
    "<b>human_development_index</b>: The HDI was created to emphasize that people and their capabilities should be the ultimate criteria for assessing the development of a country, not economic growth alone. The Human Development Index (HDI) is a summary measure of average achievement in key dimensions of human development: a long and healthy life, being knowledgeable and have a decent standard of living. The HDI is the geometric mean of normalized indices for each of the three dimensions.\n"
   ]
  },
  {
   "cell_type": "markdown",
   "id": "c4f9c5f2",
   "metadata": {},
   "source": [
    "# Data Preparation\n",
    "\n",
    "After finding out the amount of null values, I have decided to drop those missing row from data set and we would still have (31518)rows to train our linear models."
   ]
  },
  {
   "cell_type": "code",
   "execution_count": 6,
   "id": "edc0007a",
   "metadata": {},
   "outputs": [],
   "source": [
    "#dropping the irrelevant columns\n",
    "df = df.drop(['iso_code', 'Unnamed: 9', 'Unnamed: 10', 'Unnamed: 11', 'Unnamed: 12', 'Unnamed: 13'], axis =1)\n"
   ]
  },
  {
   "cell_type": "code",
   "execution_count": 7,
   "id": "68d15f96",
   "metadata": {
    "scrolled": false
   },
   "outputs": [
    {
     "name": "stdout",
     "output_type": "stream",
     "text": [
      "location                   0\n",
      "date                       0\n",
      "total_cases                0\n",
      "total_deaths               0\n",
      "stringency_index           0\n",
      "population                 0\n",
      "gdp_per_capita             0\n",
      "human_development_index    0\n",
      "dtype: int64\n",
      "\n",
      "number of rows: 31518\n"
     ]
    }
   ],
   "source": [
    "df = df.dropna(axis = 0)\n",
    "print(df.isnull().sum())\n",
    "print('')\n",
    "print('number of rows: '+str(len(df)))\n"
   ]
  },
  {
   "cell_type": "code",
   "execution_count": 8,
   "id": "ce397c1f",
   "metadata": {
    "scrolled": false
   },
   "outputs": [
    {
     "data": {
      "image/png": "[encoded data removed]",
      "text/plain": [
       "<Figure size 720x432 with 2 Axes>"
      ]
     },
     "metadata": {
      "needs_background": "light"
     },
     "output_type": "display_data"
    }
   ],
   "source": [
    "corr = df.corr(method = 'pearson')\n",
    "figure = plt.subplots(figsize = (10,6))\n",
    "sns.heatmap(corr,\n",
    "           xticklabels= corr.columns,\n",
    "           yticklabels= corr.columns,\n",
    "           cmap=\"YlOrBr\",\n",
    "           annot=True,\n",
    "           linewidth = 0.5);"
   ]
  },
  {
   "cell_type": "markdown",
   "id": "8eeb1efd",
   "metadata": {},
   "source": [
    "After looking at the correlation coefficient, '1' being a strong positive correlation between two variables. Ignoring the diagonal line as it correlated to themselves only.\n",
    "\n",
    "In this dataset we can observe that the human development index (HDI) is strongly correlated to the GDP per Capita and total number of cases and deaths, which is what we expected. Higher the number of population means more number of covid cases and therefore, deaths which ultimately have a big impact on HDI and GDP per Capita."
   ]
  },
  {
   "cell_type": "markdown",
   "id": "ef361529",
   "metadata": {},
   "source": [
    "<b>GDP</b> and <b>HDI</b> are most affected by number of deaths compared to number of cases "
   ]
  },
  {
   "cell_type": "code",
   "execution_count": 9,
   "id": "7cf7376f",
   "metadata": {},
   "outputs": [],
   "source": [
    "#Log-transforming the skewed variables\n",
    "gdp_transformed = df['gdp_per_capita'].apply(lambda x: np.log(x+1))\n",
    "total_deaths_transformed = df['total_deaths'].apply(lambda x: np.log(x+1))"
   ]
  },
  {
   "cell_type": "code",
   "execution_count": 10,
   "id": "8d4be923",
   "metadata": {
    "scrolled": true
   },
   "outputs": [
    {
     "data": {
      "image/png": "[encoded data removed]",
      "text/plain": [
       "<Figure size 1080x288 with 2 Axes>"
      ]
     },
     "metadata": {
      "needs_background": "light"
     },
     "output_type": "display_data"
    },
    {
     "data": {
      "image/png": "[encoded data removed]",
      "text/plain": [
       "<Figure size 1080x288 with 2 Axes>"
      ]
     },
     "metadata": {
      "needs_background": "light"
     },
     "output_type": "display_data"
    }
   ],
   "source": [
    "fig, (ax_before, ax_after) = plt.subplots(1,2, figsize=(15,4))\n",
    "\n",
    "ax_before.hist(df['gdp_per_capita'])\n",
    "ax_after.hist(gdp_transformed)\n",
    "ax_before.set_title('GDP per Capita before log transform')\n",
    "ax_after.set_title('GDP per Capita after log transform')\n",
    "ax_before.set_ylabel('GDP')\n",
    "\n",
    "\n",
    "fig, (ax_before, ax_after) = plt.subplots(1,2, figsize=(15,4))\n",
    "ax_before.hist(df['total_deaths'])\n",
    "ax_after.hist(total_deaths_transformed)\n",
    "ax_before.set_title('Total Number of Deaths before log transform')\n",
    "ax_after.set_title('Total Number of Deaths after log transform')\n",
    "ax_before.set_ylabel('Total Number of Deaths');"
   ]
  },
  {
   "cell_type": "markdown",
   "id": "714adf66",
   "metadata": {},
   "source": [
    "replacing original column with above transformation to our main data(df)\n"
   ]
  },
  {
   "cell_type": "code",
   "execution_count": 11,
   "id": "a7d537eb",
   "metadata": {
    "scrolled": true
   },
   "outputs": [
    {
     "data": {
      "text/html": [
       "<div>\n",
       "<style scoped>\n",
       "    .dataframe tbody tr th:only-of-type {\n",
       "        vertical-align: middle;\n",
       "    }\n",
       "\n",
       "    .dataframe tbody tr th {\n",
       "        vertical-align: top;\n",
       "    }\n",
       "\n",
       "    .dataframe thead th {\n",
       "        text-align: right;\n",
       "    }\n",
       "</style>\n",
       "<table border=\"1\" class=\"dataframe\">\n",
       "  <thead>\n",
       "    <tr style=\"text-align: right;\">\n",
       "      <th></th>\n",
       "      <th>location</th>\n",
       "      <th>date</th>\n",
       "      <th>total_cases</th>\n",
       "      <th>total_deaths</th>\n",
       "      <th>stringency_index</th>\n",
       "      <th>population</th>\n",
       "      <th>gdp_per_capita</th>\n",
       "      <th>human_development_index</th>\n",
       "    </tr>\n",
       "  </thead>\n",
       "  <tbody>\n",
       "    <tr>\n",
       "      <th>0</th>\n",
       "      <td>Afghanistan</td>\n",
       "      <td>2019-12-31</td>\n",
       "      <td>0.0</td>\n",
       "      <td>0.0</td>\n",
       "      <td>0.0</td>\n",
       "      <td>38928341</td>\n",
       "      <td>7.498309</td>\n",
       "      <td>0.498</td>\n",
       "    </tr>\n",
       "    <tr>\n",
       "      <th>1</th>\n",
       "      <td>Afghanistan</td>\n",
       "      <td>2020-01-01</td>\n",
       "      <td>0.0</td>\n",
       "      <td>0.0</td>\n",
       "      <td>0.0</td>\n",
       "      <td>38928341</td>\n",
       "      <td>7.498309</td>\n",
       "      <td>0.498</td>\n",
       "    </tr>\n",
       "    <tr>\n",
       "      <th>2</th>\n",
       "      <td>Afghanistan</td>\n",
       "      <td>2020-01-02</td>\n",
       "      <td>0.0</td>\n",
       "      <td>0.0</td>\n",
       "      <td>0.0</td>\n",
       "      <td>38928341</td>\n",
       "      <td>7.498309</td>\n",
       "      <td>0.498</td>\n",
       "    </tr>\n",
       "    <tr>\n",
       "      <th>3</th>\n",
       "      <td>Afghanistan</td>\n",
       "      <td>2020-01-03</td>\n",
       "      <td>0.0</td>\n",
       "      <td>0.0</td>\n",
       "      <td>0.0</td>\n",
       "      <td>38928341</td>\n",
       "      <td>7.498309</td>\n",
       "      <td>0.498</td>\n",
       "    </tr>\n",
       "    <tr>\n",
       "      <th>4</th>\n",
       "      <td>Afghanistan</td>\n",
       "      <td>2020-01-04</td>\n",
       "      <td>0.0</td>\n",
       "      <td>0.0</td>\n",
       "      <td>0.0</td>\n",
       "      <td>38928341</td>\n",
       "      <td>7.498309</td>\n",
       "      <td>0.498</td>\n",
       "    </tr>\n",
       "  </tbody>\n",
       "</table>\n",
       "</div>"
      ],
      "text/plain": [
       "      location        date  total_cases  total_deaths  stringency_index  \\\n",
       "0  Afghanistan  2019-12-31          0.0           0.0               0.0   \n",
       "1  Afghanistan  2020-01-01          0.0           0.0               0.0   \n",
       "2  Afghanistan  2020-01-02          0.0           0.0               0.0   \n",
       "3  Afghanistan  2020-01-03          0.0           0.0               0.0   \n",
       "4  Afghanistan  2020-01-04          0.0           0.0               0.0   \n",
       "\n",
       "   population  gdp_per_capita  human_development_index  \n",
       "0    38928341        7.498309                    0.498  \n",
       "1    38928341        7.498309                    0.498  \n",
       "2    38928341        7.498309                    0.498  \n",
       "3    38928341        7.498309                    0.498  \n",
       "4    38928341        7.498309                    0.498  "
      ]
     },
     "execution_count": 11,
     "metadata": {},
     "output_type": "execute_result"
    }
   ],
   "source": [
    "df['gdp_per_capita'] = gdp_transformed\n",
    "df['total_deaths'] = total_deaths_transformed\n",
    "df.head()"
   ]
  },
  {
   "cell_type": "markdown",
   "id": "b4387783",
   "metadata": {},
   "source": [
    "Scaling data so that all feature can be interpreted on same scale when applying supervised learners"
   ]
  },
  {
   "cell_type": "code",
   "execution_count": 12,
   "id": "3c106980",
   "metadata": {
    "scrolled": true
   },
   "outputs": [
    {
     "data": {
      "text/html": [
       "<div>\n",
       "<style scoped>\n",
       "    .dataframe tbody tr th:only-of-type {\n",
       "        vertical-align: middle;\n",
       "    }\n",
       "\n",
       "    .dataframe tbody tr th {\n",
       "        vertical-align: top;\n",
       "    }\n",
       "\n",
       "    .dataframe thead th {\n",
       "        text-align: right;\n",
       "    }\n",
       "</style>\n",
       "<table border=\"1\" class=\"dataframe\">\n",
       "  <thead>\n",
       "    <tr style=\"text-align: right;\">\n",
       "      <th></th>\n",
       "      <th>location</th>\n",
       "      <th>date</th>\n",
       "      <th>total_cases</th>\n",
       "      <th>total_deaths</th>\n",
       "      <th>stringency_index</th>\n",
       "      <th>population</th>\n",
       "      <th>gdp_per_capita</th>\n",
       "      <th>human_development_index</th>\n",
       "    </tr>\n",
       "  </thead>\n",
       "  <tbody>\n",
       "    <tr>\n",
       "      <th>0</th>\n",
       "      <td>Afghanistan</td>\n",
       "      <td>2019-12-31</td>\n",
       "      <td>0.0</td>\n",
       "      <td>0.000000</td>\n",
       "      <td>0.00</td>\n",
       "      <td>38928341</td>\n",
       "      <td>0.193801</td>\n",
       "      <td>0.498</td>\n",
       "    </tr>\n",
       "    <tr>\n",
       "      <th>1</th>\n",
       "      <td>Afghanistan</td>\n",
       "      <td>2020-01-01</td>\n",
       "      <td>0.0</td>\n",
       "      <td>0.000000</td>\n",
       "      <td>0.00</td>\n",
       "      <td>38928341</td>\n",
       "      <td>0.193801</td>\n",
       "      <td>0.498</td>\n",
       "    </tr>\n",
       "    <tr>\n",
       "      <th>2</th>\n",
       "      <td>Afghanistan</td>\n",
       "      <td>2020-01-02</td>\n",
       "      <td>0.0</td>\n",
       "      <td>0.000000</td>\n",
       "      <td>0.00</td>\n",
       "      <td>38928341</td>\n",
       "      <td>0.193801</td>\n",
       "      <td>0.498</td>\n",
       "    </tr>\n",
       "    <tr>\n",
       "      <th>3</th>\n",
       "      <td>Afghanistan</td>\n",
       "      <td>2020-01-03</td>\n",
       "      <td>0.0</td>\n",
       "      <td>0.000000</td>\n",
       "      <td>0.00</td>\n",
       "      <td>38928341</td>\n",
       "      <td>0.193801</td>\n",
       "      <td>0.498</td>\n",
       "    </tr>\n",
       "    <tr>\n",
       "      <th>4</th>\n",
       "      <td>Afghanistan</td>\n",
       "      <td>2020-01-04</td>\n",
       "      <td>0.0</td>\n",
       "      <td>0.000000</td>\n",
       "      <td>0.00</td>\n",
       "      <td>38928341</td>\n",
       "      <td>0.193801</td>\n",
       "      <td>0.498</td>\n",
       "    </tr>\n",
       "    <tr>\n",
       "      <th>...</th>\n",
       "      <td>...</td>\n",
       "      <td>...</td>\n",
       "      <td>...</td>\n",
       "      <td>...</td>\n",
       "      <td>...</td>\n",
       "      <td>...</td>\n",
       "      <td>...</td>\n",
       "      <td>...</td>\n",
       "    </tr>\n",
       "    <tr>\n",
       "      <th>50413</th>\n",
       "      <td>Zimbabwe</td>\n",
       "      <td>2020-10-15</td>\n",
       "      <td>8055.0</td>\n",
       "      <td>0.443642</td>\n",
       "      <td>76.85</td>\n",
       "      <td>14862927</td>\n",
       "      <td>0.203796</td>\n",
       "      <td>0.535</td>\n",
       "    </tr>\n",
       "    <tr>\n",
       "      <th>50414</th>\n",
       "      <td>Zimbabwe</td>\n",
       "      <td>2020-10-16</td>\n",
       "      <td>8075.0</td>\n",
       "      <td>0.443642</td>\n",
       "      <td>76.85</td>\n",
       "      <td>14862927</td>\n",
       "      <td>0.203796</td>\n",
       "      <td>0.535</td>\n",
       "    </tr>\n",
       "    <tr>\n",
       "      <th>50415</th>\n",
       "      <td>Zimbabwe</td>\n",
       "      <td>2020-10-17</td>\n",
       "      <td>8099.0</td>\n",
       "      <td>0.443642</td>\n",
       "      <td>76.85</td>\n",
       "      <td>14862927</td>\n",
       "      <td>0.203796</td>\n",
       "      <td>0.535</td>\n",
       "    </tr>\n",
       "    <tr>\n",
       "      <th>50416</th>\n",
       "      <td>Zimbabwe</td>\n",
       "      <td>2020-10-18</td>\n",
       "      <td>8110.0</td>\n",
       "      <td>0.443642</td>\n",
       "      <td>76.85</td>\n",
       "      <td>14862927</td>\n",
       "      <td>0.203796</td>\n",
       "      <td>0.535</td>\n",
       "    </tr>\n",
       "    <tr>\n",
       "      <th>50417</th>\n",
       "      <td>Zimbabwe</td>\n",
       "      <td>2020-10-19</td>\n",
       "      <td>8147.0</td>\n",
       "      <td>0.443642</td>\n",
       "      <td>76.85</td>\n",
       "      <td>14862927</td>\n",
       "      <td>0.203796</td>\n",
       "      <td>0.535</td>\n",
       "    </tr>\n",
       "  </tbody>\n",
       "</table>\n",
       "<p>31518 rows × 8 columns</p>\n",
       "</div>"
      ],
      "text/plain": [
       "          location        date  total_cases  total_deaths  stringency_index  \\\n",
       "0      Afghanistan  2019-12-31          0.0      0.000000              0.00   \n",
       "1      Afghanistan  2020-01-01          0.0      0.000000              0.00   \n",
       "2      Afghanistan  2020-01-02          0.0      0.000000              0.00   \n",
       "3      Afghanistan  2020-01-03          0.0      0.000000              0.00   \n",
       "4      Afghanistan  2020-01-04          0.0      0.000000              0.00   \n",
       "...            ...         ...          ...           ...               ...   \n",
       "50413     Zimbabwe  2020-10-15       8055.0      0.443642             76.85   \n",
       "50414     Zimbabwe  2020-10-16       8075.0      0.443642             76.85   \n",
       "50415     Zimbabwe  2020-10-17       8099.0      0.443642             76.85   \n",
       "50416     Zimbabwe  2020-10-18       8110.0      0.443642             76.85   \n",
       "50417     Zimbabwe  2020-10-19       8147.0      0.443642             76.85   \n",
       "\n",
       "       population  gdp_per_capita  human_development_index  \n",
       "0        38928341        0.193801                    0.498  \n",
       "1        38928341        0.193801                    0.498  \n",
       "2        38928341        0.193801                    0.498  \n",
       "3        38928341        0.193801                    0.498  \n",
       "4        38928341        0.193801                    0.498  \n",
       "...           ...             ...                      ...  \n",
       "50413    14862927        0.203796                    0.535  \n",
       "50414    14862927        0.203796                    0.535  \n",
       "50415    14862927        0.203796                    0.535  \n",
       "50416    14862927        0.203796                    0.535  \n",
       "50417    14862927        0.203796                    0.535  \n",
       "\n",
       "[31518 rows x 8 columns]"
      ]
     },
     "execution_count": 12,
     "metadata": {},
     "output_type": "execute_result"
    }
   ],
   "source": [
    "scaler = MinMaxScaler()\n",
    "numerical = ['total_deaths', 'gdp_per_capita']\n",
    "transform_df = pd.DataFrame(data=df)\n",
    "transform_df[numerical] = scaler.fit_transform(df[numerical])\n",
    "transform_df"
   ]
  },
  {
   "cell_type": "markdown",
   "id": "04a8a94a",
   "metadata": {},
   "source": [
    "One-hot encoding the 'location' column was making the model more on variance side(overfitting), so I decided to drop that column. In addition to that, location column was not adding any value to our model."
   ]
  },
  {
   "cell_type": "code",
   "execution_count": 13,
   "id": "5ae088aa",
   "metadata": {
    "scrolled": true
   },
   "outputs": [
    {
     "name": "stdout",
     "output_type": "stream",
     "text": [
      "training set samples: 22062\n",
      "testing set sample: 9456\n"
     ]
    }
   ],
   "source": [
    "from sklearn.model_selection import train_test_split\n",
    "\n",
    "X_data = transform_df[['total_cases', 'total_deaths', 'stringency_index', 'population','human_development_index']]\n",
    "y_data = transform_df['gdp_per_capita']\n",
    "\n",
    "#splitting the data into train and test sets\n",
    "X_train, X_test, y_train, y_test = train_test_split(X_data,y_data,test_size = 0.3,\n",
    "                                                    random_state =42)\n",
    "\n",
    "#split samples \n",
    "print('training set samples: {}'.format(X_train.shape[0]))\n",
    "print('testing set sample: {}'.format(X_test.shape[0]))\n"
   ]
  },
  {
   "cell_type": "markdown",
   "id": "e65a5823",
   "metadata": {},
   "source": [
    "# Linear Models for Training \n",
    "\n",
    "- Models training on our data are: Vanilla Linear, Ridge, Lasso, RidgeCV, LassoCV, Elastic Net\n",
    "- analyze the accuracy score of different models\n",
    "- analyze root-mean square errors\n",
    "- plotting 'predictions' vs 'actual' results"
   ]
  },
  {
   "cell_type": "code",
   "execution_count": 14,
   "id": "b3b96bbc",
   "metadata": {},
   "outputs": [],
   "source": [
    "kf = KFold (shuffle = True, random_state = 72018, n_splits = 3)"
   ]
  },
  {
   "cell_type": "code",
   "execution_count": 15,
   "id": "8a5322db",
   "metadata": {},
   "outputs": [
    {
     "name": "stdout",
     "output_type": "stream",
     "text": [
      "0.7996927742013763 0.8002741740995301\n"
     ]
    }
   ],
   "source": [
    "#starting with plain vanilla linear regression and k-fold cross validation\n",
    "\n",
    "s = StandardScaler()\n",
    "lr = LinearRegression()\n",
    "\n",
    "X_train_s = s.fit_transform(X_train)\n",
    "lr.fit(X_train_s, y_train)\n",
    "X_test_s = s.transform(X_test)\n",
    "y_pred = lr.predict(X_test_s)\n",
    "score = r2_score(y_test.values, y_pred)\n",
    "\n",
    "#using pipeline \n",
    "estimator = Pipeline([(\"scaler\",s), ('regression', lr)])\n",
    "predictions_lr = cross_val_predict(estimator, X_train, y_train, cv =kf)\n",
    "linear_score= r2_score(y_train, predictions_lr)\n",
    "\n",
    "print(linear_score, score)"
   ]
  },
  {
   "cell_type": "code",
   "execution_count": 16,
   "id": "f33f6e15",
   "metadata": {
    "scrolled": false
   },
   "outputs": [
    {
     "data": {
      "text/plain": [
       "Text(0, 0.5, '$R^2$')"
      ]
     },
     "execution_count": 16,
     "metadata": {},
     "output_type": "execute_result"
    },
    {
     "data": {
      "image/png": "[encoded data removed]",
      "text/plain": [
       "<Figure size 432x288 with 1 Axes>"
      ]
     },
     "metadata": {
      "needs_background": "light"
     },
     "output_type": "display_data"
    }
   ],
   "source": [
    "#Lasso regression and K-fold cross validation\n",
    "s = StandardScaler()\n",
    "pf = PolynomialFeatures(degree=3)\n",
    "kf = KFold(shuffle = True, random_state = 72018, n_splits = 3)\n",
    "scores=[]\n",
    "alphas  = np.geomspace(0.06, 6.0 , 20)\n",
    "predictions_lasso=[]\n",
    "\n",
    "for alpha in alphas:\n",
    "    lasso = Lasso(alpha=alpha, max_iter = 100000)\n",
    "    \n",
    "    estimator= Pipeline([('scaler', s),\n",
    "                         ('make_higher_degree', pf),\n",
    "                          ('lasso_regression',lasso)])\n",
    "    predictions_lasso = cross_val_predict(estimator, X_train, y_train, cv = kf)\n",
    "    score = r2_score(y_train, predictions_lasso)\n",
    "    scores.append(score)\n",
    "    \n",
    "plt.semilogx(alphas, scores, '-o', color='red')\n",
    "plt.title('Lasso Regression')\n",
    "plt.xlabel('$\\\\alpha$')\n",
    "plt.ylabel('$R^2$') "
   ]
  },
  {
   "cell_type": "code",
   "execution_count": 17,
   "id": "77fb022f",
   "metadata": {},
   "outputs": [
    {
     "data": {
      "text/plain": [
       "0.8345430562106396"
      ]
     },
     "execution_count": 17,
     "metadata": {},
     "output_type": "execute_result"
    }
   ],
   "source": [
    "best_estimator = Pipeline([('scaler',s),\n",
    "                           ('make_higher_degree', PolynomialFeatures(degree=2)),\n",
    "                           ('lasso_regression', Lasso(alpha = 0.03))])\n",
    "best_estimator.fit(X_train, y_train)\n",
    "\n",
    "lasso_score = best_estimator.score(X_train, y_train)\n",
    "lasso_score"
   ]
  },
  {
   "cell_type": "code",
   "execution_count": 18,
   "id": "9f044642",
   "metadata": {
    "scrolled": true
   },
   "outputs": [
    {
     "data": {
      "image/png": "[encoded data removed]",
      "text/plain": [
       "<Figure size 432x288 with 1 Axes>"
      ]
     },
     "metadata": {
      "needs_background": "light"
     },
     "output_type": "display_data"
    }
   ],
   "source": [
    "#ridge regression \n",
    "\n",
    "\n",
    "alphas = np.geomspace(4,20,20)\n",
    "scores = []\n",
    "predictions_ridge = []\n",
    "for alpha in alphas:\n",
    "    ridge = Ridge(alpha = alpha, max_iter = 100000)\n",
    "    \n",
    "    estimator = Pipeline([('scaler',s),\n",
    "                          ('polynomial_features', PolynomialFeatures(degree=2)),\n",
    "                          ('ridge_regression', ridge)])\n",
    "    \n",
    "    predictions_ridge = cross_val_predict(estimator, X_train, y_train,cv=kf)\n",
    "    score = r2_score(y_train, predictions_ridge)\n",
    "    scores.append(score)\n",
    "    \n",
    "plt.plot(alphas, scores, '-o', color = 'red')\n",
    "plt.title('Ridge Regression')\n",
    "plt.xlabel('$\\\\alpha$')\n",
    "plt.ylabel('$R^2$');"
   ]
  },
  {
   "cell_type": "code",
   "execution_count": 19,
   "id": "8a688bca",
   "metadata": {},
   "outputs": [],
   "source": [
    "best_estimator = Pipeline([('scaler', s),\n",
    "                           ('make_higher_degree', PolynomialFeatures(degree=2)),\n",
    "                           ('ridge_regression', Ridge(alpha=0.03))])\n",
    "best_estimator.fit(X_train, y_train)\n",
    "ridge_score = best_estimator.score(X_train, y_train)"
   ]
  },
  {
   "cell_type": "code",
   "execution_count": 20,
   "id": "c3f3cfc8",
   "metadata": {
    "scrolled": true
   },
   "outputs": [
    {
     "data": {
      "text/html": [
       "<div>\n",
       "<style scoped>\n",
       "    .dataframe tbody tr th:only-of-type {\n",
       "        vertical-align: middle;\n",
       "    }\n",
       "\n",
       "    .dataframe tbody tr th {\n",
       "        vertical-align: top;\n",
       "    }\n",
       "\n",
       "    .dataframe thead th {\n",
       "        text-align: right;\n",
       "    }\n",
       "</style>\n",
       "<table border=\"1\" class=\"dataframe\">\n",
       "  <thead>\n",
       "    <tr style=\"text-align: right;\">\n",
       "      <th></th>\n",
       "      <th>Linear_score</th>\n",
       "      <th>lasso_score</th>\n",
       "      <th>ridge_score</th>\n",
       "    </tr>\n",
       "  </thead>\n",
       "  <tbody>\n",
       "    <tr>\n",
       "      <th>$R^2$</th>\n",
       "      <td>0.799693</td>\n",
       "      <td>0.834543</td>\n",
       "      <td>0.893962</td>\n",
       "    </tr>\n",
       "  </tbody>\n",
       "</table>\n",
       "</div>"
      ],
      "text/plain": [
       "       Linear_score  lasso_score  ridge_score\n",
       "$R^2$      0.799693     0.834543     0.893962"
      ]
     },
     "execution_count": 20,
     "metadata": {},
     "output_type": "execute_result"
    }
   ],
   "source": [
    "#comparing train models score\n",
    "pd.DataFrame([[linear_score, lasso_score, ridge_score]],columns = ['Linear_score','lasso_score', 'ridge_score'], index = ['$R^2$'])"
   ]
  },
  {
   "cell_type": "markdown",
   "id": "fc21f3fd",
   "metadata": {},
   "source": [
    "It is clearly visible that ridge is best model out of three and ridge, lasso being better than linear regression "
   ]
  },
  {
   "cell_type": "code",
   "execution_count": 21,
   "id": "c8e3cdfe",
   "metadata": {
    "scrolled": true
   },
   "outputs": [
    {
     "data": {
      "text/plain": [
       "[('Linear', 0.10532374645422123),\n",
       " ('RidgeCV', 0.10532437149406416),\n",
       " ('LassoCV', 0.10532379259460657),\n",
       " ('ElasticNetCV', 0.10532415370522838)]"
      ]
     },
     "execution_count": 21,
     "metadata": {},
     "output_type": "execute_result"
    }
   ],
   "source": [
    "def rmse (actual, prediction):\n",
    "    return np.sqrt(mean_squared_error(actual, prediction))\n",
    "\n",
    "#rmse of Vanilla regression\n",
    "linear_regression = LinearRegression().fit(X_train,y_train)\n",
    "linear_regression_rmse = rmse(y_test, linear_regression.predict(X_test))\n",
    "\n",
    "\n",
    "#rmse of RidgeCV\n",
    "alphas = [0.005, 0.05, 0.1, 0.3,1, 3, 5, 10, 15, 30, 80]\n",
    "ridgeCV = RidgeCV(alphas= alphas, cv = 4).fit(X_train, y_train)\n",
    "ridgeCV_rmse = rmse(y_test, ridgeCV.predict(X_test))\n",
    "\n",
    "\n",
    "#rmse of lassoCV with cross-validation \n",
    "\n",
    "alphas2 = np.array([1e-5, 5e-5, 0.0001, 0.0005])\n",
    "lassoCV = LassoCV(alphas=alphas2,\n",
    "                    max_iter = 5e4,\n",
    "                    cv = 3).fit(X_train, y_train)\n",
    "lassoCV_rmse = rmse(y_test, lassoCV.predict(X_test))\n",
    "\n",
    "\n",
    "#rmse of elastic net \n",
    "\n",
    "l1_ratios = np.linspace(0.1, 0.9, 9)\n",
    "elasticNetCV = ElasticNetCV(alphas=alphas2,\n",
    "                           l1_ratio=l1_ratios,\n",
    "                           max_iter = 1e4).fit(X_train, y_train)\n",
    "elasticNetCV_rmse = rmse(y_test, elasticNetCV.predict(X_test))\n",
    "\n",
    "models_rmse = [linear_regression_rmse, ridgeCV_rmse, lassoCV_rmse, elasticNetCV_rmse]\n",
    "\n",
    "labels = ['Linear', 'RidgeCV', 'LassoCV', 'ElasticNetCV']\n",
    "\n",
    "rmse_val = list(zip(labels, models_rmse))\n",
    "rmse_val\n"
   ]
  },
  {
   "cell_type": "code",
   "execution_count": 22,
   "id": "51833c48",
   "metadata": {
    "scrolled": true
   },
   "outputs": [
    {
     "data": {
      "image/png": "[encoded data removed]",
      "text/plain": [
       "<Figure size 720x576 with 1 Axes>"
      ]
     },
     "metadata": {
      "needs_background": "light"
     },
     "output_type": "display_data"
    }
   ],
   "source": [
    "figure = plt.figure(figsize=(10,8))\n",
    "models = [linear_regression, ridgeCV, lassoCV, elasticNetCV]\n",
    "\n",
    "ax = plt.axes()\n",
    "\n",
    "for lab, mod in zip(labels,models):\n",
    "    ax.plot(y_test, mod.predict(X_test), marker = 'o', ls='',\n",
    "           ms=3.0, label = lab, alpha = 0.5)\n",
    "\n",
    "leg = plt.legend(frameon = True)\n",
    "leg.get_frame().set_edgecolor('purple')\n",
    "leg.get_frame().set_linewidth(1.0)\n",
    "\n",
    "ax.set(title = 'Linear Regression', xlabel = 'Actual', ylabel = 'Predicted');\n",
    "\n",
    "    "
   ]
  },
  {
   "cell_type": "markdown",
   "id": "3b6e47c4",
   "metadata": {},
   "source": [
    "# Root-mean-square error\n",
    "\n",
    "Graph is not giving the clear idea but after comparing 'root-mean-square' error of all model, we came to know that all there models have very similar value "
   ]
  },
  {
   "cell_type": "markdown",
   "id": "5340f95e",
   "metadata": {},
   "source": [
    "# Model accuracy\n",
    "However, if we go by model accuracy, we can cleary see that Ridge Regression model cleary wins. Therefore, considering our project's primary purpose, i.e 'prediction', we recommend Ridge as a final model"
   ]
  },
  {
   "cell_type": "markdown",
   "id": "5382b2a9",
   "metadata": {},
   "source": [
    "# Next Steps \n",
    "Considering we have fairly few columns, we can find more features like \"period without income\" or \"government subsidy per person\" and one-hot code object column of \"location\" and add more feature interaction terms could help us achieve better results."
   ]
  }
 ],
 "metadata": {
  "kernelspec": {
   "display_name": "Python 3 (ipykernel)",
   "language": "python",
   "name": "python3"
  },
  "language_info": {
   "codemirror_mode": {
    "name": "ipython",
    "version": 3
   },
   "file_extension": ".py",
   "mimetype": "text/x-python",
   "name": "python",
   "nbconvert_exporter": "python",
   "pygments_lexer": "ipython3",
   "version": "3.9.7"
  }
 },
 "nbformat": 4,
 "nbformat_minor": 5
}
