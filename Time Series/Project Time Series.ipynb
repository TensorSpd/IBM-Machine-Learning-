{
 "cells": [
  {
   "cell_type": "markdown",
   "id": "2653eb01",
   "metadata": {},
   "source": [
    "# Time Series Analysis \n",
    "\n",
    "\n",
    "This is a Dataset for Stock Prediction on Apple Inc and it is taken from Kaggle for project purpose. This dataset start from 1980 to 2021 . It was collected from Yahoo Finance. \n",
    "\n",
    "In this notebook we will apply deep learning technics like Recurrent Neural Networks (RNN) and Long-Short Term Memory (LSTM) to forecast and predict market stock price."
   ]
  },
  {
   "cell_type": "markdown",
   "id": "0064b177",
   "metadata": {},
   "source": [
    "# Importing Necessary Libraries \n"
   ]
  },
  {
   "cell_type": "code",
   "execution_count": 1,
   "id": "564ecf8a",
   "metadata": {},
   "outputs": [],
   "source": [
    "import numpy as np \n",
    "import pandas as pd \n",
    "import matplotlib.pyplot as plt \n",
    "\n",
    "from datetime import datetime\n",
    "\n",
    "import warnings \n",
    "warnings.filterwarnings('ignore')\n",
    "\n",
    "import tensorflow as tf\n",
    "from tensorflow.keras.models import Sequential\n",
    "from tensorflow.keras.layers import SimpleRNN, LSTM, Dense, Activation , Dropout\n",
    "import math\n",
    "\n",
    "from sklearn.preprocessing import MinMaxScaler\n",
    "from sklearn.metrics import mean_squared_error\n"
   ]
  },
  {
   "cell_type": "code",
   "execution_count": 2,
   "id": "1fbfeb2e",
   "metadata": {},
   "outputs": [],
   "source": [
    "#silencing tensorflow warnings\n",
    "import os\n",
    "os.environ['TF_CPP_MIN_LOG_LEVEL'] = '3'"
   ]
  },
  {
   "cell_type": "code",
   "execution_count": 3,
   "id": "cb572cb6",
   "metadata": {
    "scrolled": true
   },
   "outputs": [
    {
     "data": {
      "text/html": [
       "<div>\n",
       "<style scoped>\n",
       "    .dataframe tbody tr th:only-of-type {\n",
       "        vertical-align: middle;\n",
       "    }\n",
       "\n",
       "    .dataframe tbody tr th {\n",
       "        vertical-align: top;\n",
       "    }\n",
       "\n",
       "    .dataframe thead th {\n",
       "        text-align: right;\n",
       "    }\n",
       "</style>\n",
       "<table border=\"1\" class=\"dataframe\">\n",
       "  <thead>\n",
       "    <tr style=\"text-align: right;\">\n",
       "      <th></th>\n",
       "      <th>Date</th>\n",
       "      <th>Open</th>\n",
       "      <th>High</th>\n",
       "      <th>Low</th>\n",
       "      <th>Close</th>\n",
       "      <th>Adj Close</th>\n",
       "      <th>Volume</th>\n",
       "    </tr>\n",
       "  </thead>\n",
       "  <tbody>\n",
       "    <tr>\n",
       "      <th>0</th>\n",
       "      <td>1980-12-12</td>\n",
       "      <td>0.128348</td>\n",
       "      <td>0.128906</td>\n",
       "      <td>0.128348</td>\n",
       "      <td>0.128348</td>\n",
       "      <td>0.100600</td>\n",
       "      <td>469033600</td>\n",
       "    </tr>\n",
       "    <tr>\n",
       "      <th>1</th>\n",
       "      <td>1980-12-15</td>\n",
       "      <td>0.122210</td>\n",
       "      <td>0.122210</td>\n",
       "      <td>0.121652</td>\n",
       "      <td>0.121652</td>\n",
       "      <td>0.095352</td>\n",
       "      <td>175884800</td>\n",
       "    </tr>\n",
       "    <tr>\n",
       "      <th>2</th>\n",
       "      <td>1980-12-16</td>\n",
       "      <td>0.113281</td>\n",
       "      <td>0.113281</td>\n",
       "      <td>0.112723</td>\n",
       "      <td>0.112723</td>\n",
       "      <td>0.088353</td>\n",
       "      <td>105728000</td>\n",
       "    </tr>\n",
       "    <tr>\n",
       "      <th>3</th>\n",
       "      <td>1980-12-17</td>\n",
       "      <td>0.115513</td>\n",
       "      <td>0.116071</td>\n",
       "      <td>0.115513</td>\n",
       "      <td>0.115513</td>\n",
       "      <td>0.090540</td>\n",
       "      <td>86441600</td>\n",
       "    </tr>\n",
       "    <tr>\n",
       "      <th>4</th>\n",
       "      <td>1980-12-18</td>\n",
       "      <td>0.118862</td>\n",
       "      <td>0.119420</td>\n",
       "      <td>0.118862</td>\n",
       "      <td>0.118862</td>\n",
       "      <td>0.093165</td>\n",
       "      <td>73449600</td>\n",
       "    </tr>\n",
       "    <tr>\n",
       "      <th>...</th>\n",
       "      <td>...</td>\n",
       "      <td>...</td>\n",
       "      <td>...</td>\n",
       "      <td>...</td>\n",
       "      <td>...</td>\n",
       "      <td>...</td>\n",
       "      <td>...</td>\n",
       "    </tr>\n",
       "    <tr>\n",
       "      <th>10267</th>\n",
       "      <td>2021-09-01</td>\n",
       "      <td>152.830002</td>\n",
       "      <td>154.979996</td>\n",
       "      <td>152.339996</td>\n",
       "      <td>152.509995</td>\n",
       "      <td>152.509995</td>\n",
       "      <td>80313700</td>\n",
       "    </tr>\n",
       "    <tr>\n",
       "      <th>10268</th>\n",
       "      <td>2021-09-02</td>\n",
       "      <td>153.869995</td>\n",
       "      <td>154.720001</td>\n",
       "      <td>152.399994</td>\n",
       "      <td>153.649994</td>\n",
       "      <td>153.649994</td>\n",
       "      <td>71115500</td>\n",
       "    </tr>\n",
       "    <tr>\n",
       "      <th>10269</th>\n",
       "      <td>2021-09-03</td>\n",
       "      <td>153.759995</td>\n",
       "      <td>154.630005</td>\n",
       "      <td>153.089996</td>\n",
       "      <td>154.300003</td>\n",
       "      <td>154.300003</td>\n",
       "      <td>57808700</td>\n",
       "    </tr>\n",
       "    <tr>\n",
       "      <th>10270</th>\n",
       "      <td>2021-09-07</td>\n",
       "      <td>154.970001</td>\n",
       "      <td>157.259995</td>\n",
       "      <td>154.389999</td>\n",
       "      <td>156.690002</td>\n",
       "      <td>156.690002</td>\n",
       "      <td>82278300</td>\n",
       "    </tr>\n",
       "    <tr>\n",
       "      <th>10271</th>\n",
       "      <td>2021-09-08</td>\n",
       "      <td>156.979996</td>\n",
       "      <td>157.039993</td>\n",
       "      <td>153.979996</td>\n",
       "      <td>155.110001</td>\n",
       "      <td>155.110001</td>\n",
       "      <td>74347200</td>\n",
       "    </tr>\n",
       "  </tbody>\n",
       "</table>\n",
       "<p>10272 rows × 7 columns</p>\n",
       "</div>"
      ],
      "text/plain": [
       "             Date        Open        High         Low       Close   Adj Close  \\\n",
       "0      1980-12-12    0.128348    0.128906    0.128348    0.128348    0.100600   \n",
       "1      1980-12-15    0.122210    0.122210    0.121652    0.121652    0.095352   \n",
       "2      1980-12-16    0.113281    0.113281    0.112723    0.112723    0.088353   \n",
       "3      1980-12-17    0.115513    0.116071    0.115513    0.115513    0.090540   \n",
       "4      1980-12-18    0.118862    0.119420    0.118862    0.118862    0.093165   \n",
       "...           ...         ...         ...         ...         ...         ...   \n",
       "10267  2021-09-01  152.830002  154.979996  152.339996  152.509995  152.509995   \n",
       "10268  2021-09-02  153.869995  154.720001  152.399994  153.649994  153.649994   \n",
       "10269  2021-09-03  153.759995  154.630005  153.089996  154.300003  154.300003   \n",
       "10270  2021-09-07  154.970001  157.259995  154.389999  156.690002  156.690002   \n",
       "10271  2021-09-08  156.979996  157.039993  153.979996  155.110001  155.110001   \n",
       "\n",
       "          Volume  \n",
       "0      469033600  \n",
       "1      175884800  \n",
       "2      105728000  \n",
       "3       86441600  \n",
       "4       73449600  \n",
       "...          ...  \n",
       "10267   80313700  \n",
       "10268   71115500  \n",
       "10269   57808700  \n",
       "10270   82278300  \n",
       "10271   74347200  \n",
       "\n",
       "[10272 rows x 7 columns]"
      ]
     },
     "execution_count": 3,
     "metadata": {},
     "output_type": "execute_result"
    }
   ],
   "source": [
    "data = pd.read_csv('AAPL.csv')\n",
    "data\n"
   ]
  },
  {
   "cell_type": "markdown",
   "id": "29210768",
   "metadata": {},
   "source": [
    "# Feature Analysis \n",
    "\n",
    "<b>Date</b> = Date from 1980 to 2021\n",
    "\n",
    "<b>Open</b> = It is the price at which the financial security opens in the market when trading begins\n",
    "\n",
    "<b>High</b> = The high is the highest price at which a stock traded during a period.\n",
    "\n",
    "<b>Low</b> = Low is the minimum price of a stock in a period\n",
    "\n",
    "<b>Close</b> = Closing price generally refers to the last price at which a stock trades during a regular trading                      session\n",
    "\n",
    "<b>Adj Close</b> = The adjusted closing price amends a stock's closing price to reflect that stock's value after                          accounting for any\n",
    "\n",
    "<b>Volume</b> = Volume measures the number of shares traded in a stock or contracts traded in futures or options.\n",
    "\n",
    "\n",
    "\n"
   ]
  },
  {
   "cell_type": "markdown",
   "id": "ad0957ae",
   "metadata": {},
   "source": [
    "Here we are predicting on 'Close' Variable using Deep learning models"
   ]
  },
  {
   "cell_type": "markdown",
   "id": "8533ae0a",
   "metadata": {},
   "source": [
    "Let's check for the null value first \n"
   ]
  },
  {
   "cell_type": "code",
   "execution_count": 4,
   "id": "e473259f",
   "metadata": {},
   "outputs": [
    {
     "data": {
      "text/plain": [
       "0"
      ]
     },
     "execution_count": 4,
     "metadata": {},
     "output_type": "execute_result"
    }
   ],
   "source": [
    "data.Close.isnull().sum()"
   ]
  },
  {
   "cell_type": "code",
   "execution_count": 5,
   "id": "e022ebaa",
   "metadata": {
    "scrolled": false
   },
   "outputs": [
    {
     "data": {
      "text/html": [
       "<div>\n",
       "<style scoped>\n",
       "    .dataframe tbody tr th:only-of-type {\n",
       "        vertical-align: middle;\n",
       "    }\n",
       "\n",
       "    .dataframe tbody tr th {\n",
       "        vertical-align: top;\n",
       "    }\n",
       "\n",
       "    .dataframe thead th {\n",
       "        text-align: right;\n",
       "    }\n",
       "</style>\n",
       "<table border=\"1\" class=\"dataframe\">\n",
       "  <thead>\n",
       "    <tr style=\"text-align: right;\">\n",
       "      <th></th>\n",
       "      <th>Date</th>\n",
       "      <th>Close</th>\n",
       "    </tr>\n",
       "  </thead>\n",
       "  <tbody>\n",
       "    <tr>\n",
       "      <th>0</th>\n",
       "      <td>1980-12-12</td>\n",
       "      <td>0.128348</td>\n",
       "    </tr>\n",
       "    <tr>\n",
       "      <th>1</th>\n",
       "      <td>1980-12-15</td>\n",
       "      <td>0.121652</td>\n",
       "    </tr>\n",
       "    <tr>\n",
       "      <th>2</th>\n",
       "      <td>1980-12-16</td>\n",
       "      <td>0.112723</td>\n",
       "    </tr>\n",
       "    <tr>\n",
       "      <th>3</th>\n",
       "      <td>1980-12-17</td>\n",
       "      <td>0.115513</td>\n",
       "    </tr>\n",
       "    <tr>\n",
       "      <th>4</th>\n",
       "      <td>1980-12-18</td>\n",
       "      <td>0.118862</td>\n",
       "    </tr>\n",
       "    <tr>\n",
       "      <th>...</th>\n",
       "      <td>...</td>\n",
       "      <td>...</td>\n",
       "    </tr>\n",
       "    <tr>\n",
       "      <th>10267</th>\n",
       "      <td>2021-09-01</td>\n",
       "      <td>152.509995</td>\n",
       "    </tr>\n",
       "    <tr>\n",
       "      <th>10268</th>\n",
       "      <td>2021-09-02</td>\n",
       "      <td>153.649994</td>\n",
       "    </tr>\n",
       "    <tr>\n",
       "      <th>10269</th>\n",
       "      <td>2021-09-03</td>\n",
       "      <td>154.300003</td>\n",
       "    </tr>\n",
       "    <tr>\n",
       "      <th>10270</th>\n",
       "      <td>2021-09-07</td>\n",
       "      <td>156.690002</td>\n",
       "    </tr>\n",
       "    <tr>\n",
       "      <th>10271</th>\n",
       "      <td>2021-09-08</td>\n",
       "      <td>155.110001</td>\n",
       "    </tr>\n",
       "  </tbody>\n",
       "</table>\n",
       "<p>10272 rows × 2 columns</p>\n",
       "</div>"
      ],
      "text/plain": [
       "             Date       Close\n",
       "0      1980-12-12    0.128348\n",
       "1      1980-12-15    0.121652\n",
       "2      1980-12-16    0.112723\n",
       "3      1980-12-17    0.115513\n",
       "4      1980-12-18    0.118862\n",
       "...           ...         ...\n",
       "10267  2021-09-01  152.509995\n",
       "10268  2021-09-02  153.649994\n",
       "10269  2021-09-03  154.300003\n",
       "10270  2021-09-07  156.690002\n",
       "10271  2021-09-08  155.110001\n",
       "\n",
       "[10272 rows x 2 columns]"
      ]
     },
     "execution_count": 5,
     "metadata": {},
     "output_type": "execute_result"
    }
   ],
   "source": [
    "#making DataFrame \n",
    "\n",
    "df = data[['Date','Close']]\n",
    "df"
   ]
  },
  {
   "cell_type": "markdown",
   "id": "f1d4714d",
   "metadata": {},
   "source": [
    "# Applying necessary Feature Transformation "
   ]
  },
  {
   "cell_type": "code",
   "execution_count": 6,
   "id": "0798a5dc",
   "metadata": {
    "scrolled": true
   },
   "outputs": [
    {
     "data": {
      "text/html": [
       "<div>\n",
       "<style scoped>\n",
       "    .dataframe tbody tr th:only-of-type {\n",
       "        vertical-align: middle;\n",
       "    }\n",
       "\n",
       "    .dataframe tbody tr th {\n",
       "        vertical-align: top;\n",
       "    }\n",
       "\n",
       "    .dataframe thead th {\n",
       "        text-align: right;\n",
       "    }\n",
       "</style>\n",
       "<table border=\"1\" class=\"dataframe\">\n",
       "  <thead>\n",
       "    <tr style=\"text-align: right;\">\n",
       "      <th></th>\n",
       "      <th>Date</th>\n",
       "      <th>Close</th>\n",
       "    </tr>\n",
       "  </thead>\n",
       "  <tbody>\n",
       "    <tr>\n",
       "      <th>0</th>\n",
       "      <td>1980-12-12</td>\n",
       "      <td>0.128348</td>\n",
       "    </tr>\n",
       "    <tr>\n",
       "      <th>1</th>\n",
       "      <td>1980-12-15</td>\n",
       "      <td>0.121652</td>\n",
       "    </tr>\n",
       "    <tr>\n",
       "      <th>2</th>\n",
       "      <td>1980-12-16</td>\n",
       "      <td>0.112723</td>\n",
       "    </tr>\n",
       "    <tr>\n",
       "      <th>3</th>\n",
       "      <td>1980-12-17</td>\n",
       "      <td>0.115513</td>\n",
       "    </tr>\n",
       "    <tr>\n",
       "      <th>4</th>\n",
       "      <td>1980-12-18</td>\n",
       "      <td>0.118862</td>\n",
       "    </tr>\n",
       "    <tr>\n",
       "      <th>...</th>\n",
       "      <td>...</td>\n",
       "      <td>...</td>\n",
       "    </tr>\n",
       "    <tr>\n",
       "      <th>10267</th>\n",
       "      <td>2021-09-01</td>\n",
       "      <td>152.509995</td>\n",
       "    </tr>\n",
       "    <tr>\n",
       "      <th>10268</th>\n",
       "      <td>2021-09-02</td>\n",
       "      <td>153.649994</td>\n",
       "    </tr>\n",
       "    <tr>\n",
       "      <th>10269</th>\n",
       "      <td>2021-09-03</td>\n",
       "      <td>154.300003</td>\n",
       "    </tr>\n",
       "    <tr>\n",
       "      <th>10270</th>\n",
       "      <td>2021-09-07</td>\n",
       "      <td>156.690002</td>\n",
       "    </tr>\n",
       "    <tr>\n",
       "      <th>10271</th>\n",
       "      <td>2021-09-08</td>\n",
       "      <td>155.110001</td>\n",
       "    </tr>\n",
       "  </tbody>\n",
       "</table>\n",
       "<p>10272 rows × 2 columns</p>\n",
       "</div>"
      ],
      "text/plain": [
       "             Date       Close\n",
       "0      1980-12-12    0.128348\n",
       "1      1980-12-15    0.121652\n",
       "2      1980-12-16    0.112723\n",
       "3      1980-12-17    0.115513\n",
       "4      1980-12-18    0.118862\n",
       "...           ...         ...\n",
       "10267  2021-09-01  152.509995\n",
       "10268  2021-09-02  153.649994\n",
       "10269  2021-09-03  154.300003\n",
       "10270  2021-09-07  156.690002\n",
       "10271  2021-09-08  155.110001\n",
       "\n",
       "[10272 rows x 2 columns]"
      ]
     },
     "execution_count": 6,
     "metadata": {},
     "output_type": "execute_result"
    }
   ],
   "source": [
    "#converting Close variable from object to float data type\n",
    "\n",
    "df['Close'] = df['Close'].apply(lambda x: float(x))\n",
    "df"
   ]
  },
  {
   "cell_type": "code",
   "execution_count": 7,
   "id": "cfbb8ae7",
   "metadata": {},
   "outputs": [
    {
     "data": {
      "text/plain": [
       "dtype('float64')"
      ]
     },
     "execution_count": 7,
     "metadata": {},
     "output_type": "execute_result"
    }
   ],
   "source": [
    "df.Close.dtype"
   ]
  },
  {
   "cell_type": "code",
   "execution_count": 8,
   "id": "aec1b1ef",
   "metadata": {},
   "outputs": [],
   "source": [
    "#making a datetime row with using Date Variable \n",
    "\n",
    "def make_date(row):\n",
    "    return datetime(year = int(row.split('-')[0]),\n",
    "                   month = int(row.split('-')[1]),\n",
    "                   day = int(row.split('-')[2]))\n",
    "\n",
    "df['Date'] = df['Date'].apply(make_date)\n",
    "df.set_index(df.Date, inplace = True)\n",
    "df.drop(columns = 'Date', inplace = True)\n"
   ]
  },
  {
   "cell_type": "code",
   "execution_count": 9,
   "id": "e1c64a8b",
   "metadata": {
    "scrolled": true
   },
   "outputs": [
    {
     "data": {
      "text/html": [
       "<div>\n",
       "<style scoped>\n",
       "    .dataframe tbody tr th:only-of-type {\n",
       "        vertical-align: middle;\n",
       "    }\n",
       "\n",
       "    .dataframe tbody tr th {\n",
       "        vertical-align: top;\n",
       "    }\n",
       "\n",
       "    .dataframe thead th {\n",
       "        text-align: right;\n",
       "    }\n",
       "</style>\n",
       "<table border=\"1\" class=\"dataframe\">\n",
       "  <thead>\n",
       "    <tr style=\"text-align: right;\">\n",
       "      <th></th>\n",
       "      <th>Close</th>\n",
       "    </tr>\n",
       "    <tr>\n",
       "      <th>Date</th>\n",
       "      <th></th>\n",
       "    </tr>\n",
       "  </thead>\n",
       "  <tbody>\n",
       "    <tr>\n",
       "      <th>1980-12-12</th>\n",
       "      <td>0.128348</td>\n",
       "    </tr>\n",
       "    <tr>\n",
       "      <th>1980-12-15</th>\n",
       "      <td>0.121652</td>\n",
       "    </tr>\n",
       "    <tr>\n",
       "      <th>1980-12-16</th>\n",
       "      <td>0.112723</td>\n",
       "    </tr>\n",
       "    <tr>\n",
       "      <th>1980-12-17</th>\n",
       "      <td>0.115513</td>\n",
       "    </tr>\n",
       "    <tr>\n",
       "      <th>1980-12-18</th>\n",
       "      <td>0.118862</td>\n",
       "    </tr>\n",
       "  </tbody>\n",
       "</table>\n",
       "</div>"
      ],
      "text/plain": [
       "               Close\n",
       "Date                \n",
       "1980-12-12  0.128348\n",
       "1980-12-15  0.121652\n",
       "1980-12-16  0.112723\n",
       "1980-12-17  0.115513\n",
       "1980-12-18  0.118862"
      ]
     },
     "execution_count": 9,
     "metadata": {},
     "output_type": "execute_result"
    }
   ],
   "source": [
    "df.head()"
   ]
  },
  {
   "cell_type": "code",
   "execution_count": 10,
   "id": "fd844ccc",
   "metadata": {},
   "outputs": [
    {
     "data": {
      "text/plain": [
       "[<matplotlib.lines.Line2D at 0x7ff1713c1fa0>]"
      ]
     },
     "execution_count": 10,
     "metadata": {},
     "output_type": "execute_result"
    },
    {
     "data": {
      "image/png": "[encoded data removed]",
      "text/plain": [
       "<Figure size 432x288 with 1 Axes>"
      ]
     },
     "metadata": {
      "needs_background": "light"
     },
     "output_type": "display_data"
    }
   ],
   "source": [
    "#plotting values through timestep \n",
    "\n",
    "plt.plot(df, 'r--')"
   ]
  },
  {
   "cell_type": "markdown",
   "id": "024d5bef",
   "metadata": {},
   "source": [
    "As we one can trend is increasing rapidly from 2010 onwards.\n",
    "So inorder to work with stable dataset we will take values from timestep 2010 to 2021"
   ]
  },
  {
   "cell_type": "code",
   "execution_count": 11,
   "id": "28b990fd",
   "metadata": {
    "scrolled": true
   },
   "outputs": [
    {
     "data": {
      "text/html": [
       "<div>\n",
       "<style scoped>\n",
       "    .dataframe tbody tr th:only-of-type {\n",
       "        vertical-align: middle;\n",
       "    }\n",
       "\n",
       "    .dataframe tbody tr th {\n",
       "        vertical-align: top;\n",
       "    }\n",
       "\n",
       "    .dataframe thead th {\n",
       "        text-align: right;\n",
       "    }\n",
       "</style>\n",
       "<table border=\"1\" class=\"dataframe\">\n",
       "  <thead>\n",
       "    <tr style=\"text-align: right;\">\n",
       "      <th></th>\n",
       "      <th>Close</th>\n",
       "    </tr>\n",
       "    <tr>\n",
       "      <th>Date</th>\n",
       "      <th></th>\n",
       "    </tr>\n",
       "  </thead>\n",
       "  <tbody>\n",
       "    <tr>\n",
       "      <th>2010-01-04</th>\n",
       "      <td>7.643214</td>\n",
       "    </tr>\n",
       "    <tr>\n",
       "      <th>2010-01-05</th>\n",
       "      <td>7.656429</td>\n",
       "    </tr>\n",
       "    <tr>\n",
       "      <th>2010-01-06</th>\n",
       "      <td>7.534643</td>\n",
       "    </tr>\n",
       "    <tr>\n",
       "      <th>2010-01-07</th>\n",
       "      <td>7.520714</td>\n",
       "    </tr>\n",
       "    <tr>\n",
       "      <th>2010-01-08</th>\n",
       "      <td>7.570714</td>\n",
       "    </tr>\n",
       "    <tr>\n",
       "      <th>...</th>\n",
       "      <td>...</td>\n",
       "    </tr>\n",
       "    <tr>\n",
       "      <th>2021-09-01</th>\n",
       "      <td>152.509995</td>\n",
       "    </tr>\n",
       "    <tr>\n",
       "      <th>2021-09-02</th>\n",
       "      <td>153.649994</td>\n",
       "    </tr>\n",
       "    <tr>\n",
       "      <th>2021-09-03</th>\n",
       "      <td>154.300003</td>\n",
       "    </tr>\n",
       "    <tr>\n",
       "      <th>2021-09-07</th>\n",
       "      <td>156.690002</td>\n",
       "    </tr>\n",
       "    <tr>\n",
       "      <th>2021-09-08</th>\n",
       "      <td>155.110001</td>\n",
       "    </tr>\n",
       "  </tbody>\n",
       "</table>\n",
       "<p>2941 rows × 1 columns</p>\n",
       "</div>"
      ],
      "text/plain": [
       "                 Close\n",
       "Date                  \n",
       "2010-01-04    7.643214\n",
       "2010-01-05    7.656429\n",
       "2010-01-06    7.534643\n",
       "2010-01-07    7.520714\n",
       "2010-01-08    7.570714\n",
       "...                ...\n",
       "2021-09-01  152.509995\n",
       "2021-09-02  153.649994\n",
       "2021-09-03  154.300003\n",
       "2021-09-07  156.690002\n",
       "2021-09-08  155.110001\n",
       "\n",
       "[2941 rows x 1 columns]"
      ]
     },
     "execution_count": 11,
     "metadata": {},
     "output_type": "execute_result"
    }
   ],
   "source": [
    "#making a dataframe from timestep 2010-2021\n",
    "\n",
    "df = df[df.index > datetime(2009,12,31)]\n",
    "df"
   ]
  },
  {
   "cell_type": "code",
   "execution_count": 12,
   "id": "6eec5669",
   "metadata": {
    "scrolled": false
   },
   "outputs": [
    {
     "data": {
      "text/plain": [
       "[<matplotlib.lines.Line2D at 0x7ff172faae80>]"
      ]
     },
     "execution_count": 12,
     "metadata": {},
     "output_type": "execute_result"
    },
    {
     "data": {
      "image/png": "[encoded data removed]",
      "text/plain": [
       "<Figure size 432x288 with 1 Axes>"
      ]
     },
     "metadata": {
      "needs_background": "light"
     },
     "output_type": "display_data"
    }
   ],
   "source": [
    "plt.plot(df, 'r--')"
   ]
  },
  {
   "cell_type": "markdown",
   "id": "9a823234",
   "metadata": {},
   "source": [
    "Much better \n"
   ]
  },
  {
   "cell_type": "markdown",
   "id": "9667140a",
   "metadata": {},
   "source": [
    "# Applying feature scaling and splitting our data \n",
    "\n"
   ]
  },
  {
   "cell_type": "code",
   "execution_count": 13,
   "id": "7c022be4",
   "metadata": {},
   "outputs": [],
   "source": [
    "periods = 50 \n",
    "\n",
    "Train = df[:len(df) - periods]['Close'].values\n",
    "Test = df[len(Train):]['Close'].values\n",
    "\n",
    "Train = Train.reshape(Train.shape[0],1)\n",
    "Test = Test.reshape(Test.shape[0],1)"
   ]
  },
  {
   "cell_type": "code",
   "execution_count": 14,
   "id": "3d6fe343",
   "metadata": {
    "scrolled": true
   },
   "outputs": [
    {
     "data": {
      "text/plain": [
       "50"
      ]
     },
     "execution_count": 14,
     "metadata": {},
     "output_type": "execute_result"
    }
   ],
   "source": [
    "len(Test)"
   ]
  },
  {
   "cell_type": "code",
   "execution_count": 15,
   "id": "a4a03a87",
   "metadata": {},
   "outputs": [],
   "source": [
    "mm = MinMaxScaler(feature_range = (0,1))\n",
    "train = mm.fit_transform(Train)\n"
   ]
  },
  {
   "cell_type": "code",
   "execution_count": 16,
   "id": "899b884f",
   "metadata": {},
   "outputs": [],
   "source": [
    "#making a train_X and train_y dataset with sets of sequence\n",
    "\n",
    "train_X = []\n",
    "train_y = []\n",
    "\n",
    "for i in range (periods, train.shape[0]):\n",
    "    train_X.append(train[i-periods:i,0])\n",
    "    train_y.append(train[i,0])\n",
    "\n",
    "train_X = np.array(train_X)\n",
    "train_X = train_X.reshape(train_X.shape[0], train_X.shape[1], 1)\n",
    "train_y = np.array(train_y)"
   ]
  },
  {
   "cell_type": "code",
   "execution_count": 17,
   "id": "6151dce9",
   "metadata": {},
   "outputs": [
    {
     "name": "stdout",
     "output_type": "stream",
     "text": [
      "Training data shape: (2841, 50, 1)\n",
      "Training outcome shape: (2841,)\n"
     ]
    }
   ],
   "source": [
    "print('Training data shape: {}'.format(train_X.shape))\n",
    "print('Training outcome shape: {}'.format(train_y.shape))"
   ]
  },
  {
   "cell_type": "code",
   "execution_count": 18,
   "id": "3d712135",
   "metadata": {},
   "outputs": [
    {
     "data": {
      "text/plain": [
       "(50, 50, 1)"
      ]
     },
     "execution_count": 18,
     "metadata": {},
     "output_type": "execute_result"
    }
   ],
   "source": [
    "test_data = df[len(df) - len(Test) - periods:]\n",
    "test_data = mm.transform(test_data)\n",
    "\n",
    "test_X = []\n",
    "\n",
    "for i in range(periods, 100):\n",
    "    test_X.append(test_data[i-periods:i,0])\n",
    "    \n",
    "test_X = np.array(test_X)\n",
    "test_X = test_X.reshape(test_X.shape[0], test_X.shape[1], 1)\n",
    "test_X.shape"
   ]
  },
  {
   "cell_type": "markdown",
   "id": "38533585",
   "metadata": {},
   "source": [
    "# Training RNN and LSTM model \n",
    "\n",
    "- Creating Simple RNN with 70 hidden layer and LSTM with 70 hidden layer \n",
    "- Using 'mean squared error' as a loss function \n",
    "- For optimizer using 'Adam'\n",
    "- 100 epochs to train our model \n",
    "- predicting and plotting the results"
   ]
  },
  {
   "cell_type": "markdown",
   "id": "cd027dc1",
   "metadata": {},
   "source": [
    "# RNN\n",
    "\n"
   ]
  },
  {
   "cell_type": "code",
   "execution_count": 19,
   "id": "346bf62e",
   "metadata": {
    "scrolled": false
   },
   "outputs": [],
   "source": [
    "model = Sequential()\n",
    "model.add(SimpleRNN(70, activation= 'tanh', \n",
    "                   input_shape = (train.shape[1],1),return_sequences = True))\n",
    "model.add(SimpleRNN(70, activation= 'tanh', \n",
    "                   input_shape = (train.shape[1],1)))\n",
    "model.add(Dense(1))\n"
   ]
  },
  {
   "cell_type": "code",
   "execution_count": 20,
   "id": "e69e8477",
   "metadata": {},
   "outputs": [
    {
     "name": "stdout",
     "output_type": "stream",
     "text": [
      "Model: \"sequential\"\n",
      "_________________________________________________________________\n",
      "Layer (type)                 Output Shape              Param #   \n",
      "=================================================================\n",
      "simple_rnn (SimpleRNN)       (None, 1, 70)             5040      \n",
      "_________________________________________________________________\n",
      "simple_rnn_1 (SimpleRNN)     (None, 70)                9870      \n",
      "_________________________________________________________________\n",
      "dense (Dense)                (None, 1)                 71        \n",
      "=================================================================\n",
      "Total params: 14,981\n",
      "Trainable params: 14,981\n",
      "Non-trainable params: 0\n",
      "_________________________________________________________________\n"
     ]
    }
   ],
   "source": [
    "#Lets check how many weight paramters we have to train\n",
    "model.summary()"
   ]
  },
  {
   "cell_type": "code",
   "execution_count": 21,
   "id": "889ede74",
   "metadata": {},
   "outputs": [],
   "source": [
    "warnings.filterwarnings(action='once')\n"
   ]
  },
  {
   "cell_type": "code",
   "execution_count": 22,
   "id": "cf6a03b9",
   "metadata": {},
   "outputs": [
    {
     "name": "stdout",
     "output_type": "stream",
     "text": [
      "Epoch 1/100\n",
      "WARNING:tensorflow:Model was constructed with shape (None, 1, 1) for input KerasTensor(type_spec=TensorSpec(shape=(None, 1, 1), dtype=tf.float32, name='simple_rnn_input'), name='simple_rnn_input', description=\"created by layer 'simple_rnn_input'\"), but it was called on an input with incompatible shape (None, 50, 1).\n",
      "WARNING:tensorflow:Model was constructed with shape (None, 1, 1) for input KerasTensor(type_spec=TensorSpec(shape=(None, 1, 1), dtype=tf.float32, name='simple_rnn_input'), name='simple_rnn_input', description=\"created by layer 'simple_rnn_input'\"), but it was called on an input with incompatible shape (None, 50, 1).\n",
      "89/89 [==============================] - 2s 15ms/step - loss: 0.0159\n",
      "Epoch 2/100\n",
      "89/89 [==============================] - 1s 15ms/step - loss: 1.9454e-04\n",
      "Epoch 3/100\n",
      "89/89 [==============================] - 1s 14ms/step - loss: 1.7320e-04\n",
      "Epoch 4/100\n",
      "89/89 [==============================] - 1s 14ms/step - loss: 1.6402e-04\n",
      "Epoch 5/100\n",
      "89/89 [==============================] - 1s 13ms/step - loss: 1.7942e-04\n",
      "Epoch 6/100\n",
      "89/89 [==============================] - 1s 14ms/step - loss: 1.6014e-04\n",
      "Epoch 7/100\n",
      "89/89 [==============================] - 1s 13ms/step - loss: 1.5539e-04\n",
      "Epoch 8/100\n",
      "89/89 [==============================] - 1s 13ms/step - loss: 1.5964e-04\n",
      "Epoch 9/100\n",
      "89/89 [==============================] - 1s 14ms/step - loss: 1.5359e-04\n",
      "Epoch 10/100\n",
      "89/89 [==============================] - 1s 14ms/step - loss: 1.2714e-04\n",
      "Epoch 11/100\n",
      "89/89 [==============================] - 1s 13ms/step - loss: 1.3041e-04\n",
      "Epoch 12/100\n",
      "89/89 [==============================] - 1s 13ms/step - loss: 1.4659e-04\n",
      "Epoch 13/100\n",
      "89/89 [==============================] - 1s 13ms/step - loss: 1.3416e-04\n",
      "Epoch 14/100\n",
      "89/89 [==============================] - 1s 14ms/step - loss: 1.0391e-04\n",
      "Epoch 15/100\n",
      "89/89 [==============================] - 1s 13ms/step - loss: 1.2733e-04\n",
      "Epoch 16/100\n",
      "89/89 [==============================] - 1s 13ms/step - loss: 1.1651e-04\n",
      "Epoch 17/100\n",
      "89/89 [==============================] - 1s 13ms/step - loss: 1.3289e-04\n",
      "Epoch 18/100\n",
      "89/89 [==============================] - 1s 13ms/step - loss: 1.1388e-04\n",
      "Epoch 19/100\n",
      "89/89 [==============================] - 1s 14ms/step - loss: 1.8341e-04\n",
      "Epoch 20/100\n",
      "89/89 [==============================] - 2s 20ms/step - loss: 1.2832e-04\n",
      "Epoch 21/100\n",
      "89/89 [==============================] - 1s 14ms/step - loss: 1.1375e-04\n",
      "Epoch 22/100\n",
      "89/89 [==============================] - 1s 14ms/step - loss: 1.4227e-04\n",
      "Epoch 23/100\n",
      "89/89 [==============================] - 1s 14ms/step - loss: 1.3332e-04\n",
      "Epoch 24/100\n",
      "89/89 [==============================] - 1s 14ms/step - loss: 1.0436e-04\n",
      "Epoch 25/100\n",
      "89/89 [==============================] - 1s 14ms/step - loss: 9.6214e-05\n",
      "Epoch 26/100\n",
      "89/89 [==============================] - 1s 14ms/step - loss: 1.1847e-04\n",
      "Epoch 27/100\n",
      "89/89 [==============================] - 1s 15ms/step - loss: 1.1850e-04\n",
      "Epoch 28/100\n",
      "89/89 [==============================] - 2s 18ms/step - loss: 1.1762e-04\n",
      "Epoch 29/100\n",
      "89/89 [==============================] - 1s 15ms/step - loss: 1.0333e-04\n",
      "Epoch 30/100\n",
      "89/89 [==============================] - 1s 14ms/step - loss: 9.1702e-05\n",
      "Epoch 31/100\n",
      "89/89 [==============================] - 1s 15ms/step - loss: 1.0978e-04\n",
      "Epoch 32/100\n",
      "89/89 [==============================] - 1s 16ms/step - loss: 9.2323e-05\n",
      "Epoch 33/100\n",
      "89/89 [==============================] - 1s 14ms/step - loss: 8.2570e-05\n",
      "Epoch 34/100\n",
      "89/89 [==============================] - 1s 14ms/step - loss: 9.2003e-05\n",
      "Epoch 35/100\n",
      "89/89 [==============================] - 1s 13ms/step - loss: 9.1194e-05\n",
      "Epoch 36/100\n",
      "89/89 [==============================] - 2s 18ms/step - loss: 7.7910e-05\n",
      "Epoch 37/100\n",
      "89/89 [==============================] - 2s 27ms/step - loss: 8.5555e-05\n",
      "Epoch 38/100\n",
      "89/89 [==============================] - 3s 29ms/step - loss: 8.1615e-05\n",
      "Epoch 39/100\n",
      "89/89 [==============================] - 2s 25ms/step - loss: 9.1492e-05\n",
      "Epoch 40/100\n",
      "89/89 [==============================] - 2s 28ms/step - loss: 7.3993e-05\n",
      "Epoch 41/100\n",
      "89/89 [==============================] - 2s 20ms/step - loss: 9.3312e-05\n",
      "Epoch 42/100\n",
      "89/89 [==============================] - 1s 15ms/step - loss: 8.2743e-05\n",
      "Epoch 43/100\n",
      "89/89 [==============================] - 1s 15ms/step - loss: 9.9977e-05\n",
      "Epoch 44/100\n",
      "89/89 [==============================] - 1s 14ms/step - loss: 1.1639e-04\n",
      "Epoch 45/100\n",
      "89/89 [==============================] - 1s 14ms/step - loss: 8.9886e-05\n",
      "Epoch 46/100\n",
      "89/89 [==============================] - 1s 14ms/step - loss: 7.9902e-05\n",
      "Epoch 47/100\n",
      "89/89 [==============================] - 1s 14ms/step - loss: 7.1070e-05\n",
      "Epoch 48/100\n",
      "89/89 [==============================] - 1s 14ms/step - loss: 1.2621e-04\n",
      "Epoch 49/100\n",
      "89/89 [==============================] - 1s 14ms/step - loss: 9.7740e-05\n",
      "Epoch 50/100\n",
      "89/89 [==============================] - 1s 14ms/step - loss: 8.2549e-05\n",
      "Epoch 51/100\n",
      "89/89 [==============================] - 1s 14ms/step - loss: 6.7370e-05\n",
      "Epoch 52/100\n",
      "89/89 [==============================] - 1s 14ms/step - loss: 8.6869e-05\n",
      "Epoch 53/100\n",
      "89/89 [==============================] - 1s 16ms/step - loss: 9.7167e-05\n",
      "Epoch 54/100\n",
      "89/89 [==============================] - 1s 15ms/step - loss: 1.2918e-04\n",
      "Epoch 55/100\n",
      "89/89 [==============================] - 1s 16ms/step - loss: 8.3190e-05\n",
      "Epoch 56/100\n",
      "89/89 [==============================] - 1s 15ms/step - loss: 7.0036e-05\n",
      "Epoch 57/100\n",
      "89/89 [==============================] - 1s 13ms/step - loss: 1.0092e-04\n",
      "Epoch 58/100\n",
      "89/89 [==============================] - 1s 16ms/step - loss: 6.0937e-05\n",
      "Epoch 59/100\n",
      "89/89 [==============================] - 2s 22ms/step - loss: 7.5237e-05\n",
      "Epoch 60/100\n",
      "89/89 [==============================] - 2s 21ms/step - loss: 6.9638e-05\n",
      "Epoch 61/100\n",
      "89/89 [==============================] - 1s 14ms/step - loss: 7.7092e-05\n",
      "Epoch 62/100\n",
      "89/89 [==============================] - 1s 13ms/step - loss: 7.1124e-05\n",
      "Epoch 63/100\n",
      "89/89 [==============================] - 1s 16ms/step - loss: 7.8989e-05\n",
      "Epoch 64/100\n",
      "89/89 [==============================] - 1s 16ms/step - loss: 8.6260e-05\n",
      "Epoch 65/100\n",
      "89/89 [==============================] - 1s 16ms/step - loss: 7.9696e-05\n",
      "Epoch 66/100\n",
      "89/89 [==============================] - 2s 18ms/step - loss: 8.6363e-05\n",
      "Epoch 67/100\n",
      "89/89 [==============================] - 1s 16ms/step - loss: 8.7133e-05\n",
      "Epoch 68/100\n",
      "89/89 [==============================] - 1s 14ms/step - loss: 1.0113e-04\n",
      "Epoch 69/100\n",
      "89/89 [==============================] - 1s 15ms/step - loss: 7.8198e-05\n",
      "Epoch 70/100\n",
      "89/89 [==============================] - 1s 14ms/step - loss: 7.1228e-05\n",
      "Epoch 71/100\n",
      "89/89 [==============================] - 1s 15ms/step - loss: 7.0758e-05\n",
      "Epoch 72/100\n",
      "89/89 [==============================] - 1s 16ms/step - loss: 1.0635e-04\n",
      "Epoch 73/100\n",
      "89/89 [==============================] - 1s 16ms/step - loss: 8.1348e-05\n",
      "Epoch 74/100\n",
      "89/89 [==============================] - 1s 16ms/step - loss: 7.8441e-05\n",
      "Epoch 75/100\n",
      "89/89 [==============================] - 1s 16ms/step - loss: 1.0463e-04\n",
      "Epoch 76/100\n",
      "89/89 [==============================] - 1s 15ms/step - loss: 7.5248e-05\n",
      "Epoch 77/100\n",
      "89/89 [==============================] - 1s 15ms/step - loss: 8.0751e-05\n",
      "Epoch 78/100\n",
      "89/89 [==============================] - 1s 15ms/step - loss: 7.4608e-05\n",
      "Epoch 79/100\n",
      "89/89 [==============================] - 1s 15ms/step - loss: 9.3687e-05\n",
      "Epoch 80/100\n",
      "89/89 [==============================] - 2s 17ms/step - loss: 6.5783e-05\n",
      "Epoch 81/100\n",
      "89/89 [==============================] - 2s 17ms/step - loss: 7.2794e-05\n",
      "Epoch 82/100\n",
      "89/89 [==============================] - 1s 16ms/step - loss: 7.6529e-05\n",
      "Epoch 83/100\n",
      "89/89 [==============================] - 1s 16ms/step - loss: 7.4937e-05\n",
      "Epoch 84/100\n",
      "89/89 [==============================] - 1s 16ms/step - loss: 7.7593e-05\n",
      "Epoch 85/100\n",
      "89/89 [==============================] - 1s 16ms/step - loss: 8.0410e-05\n",
      "Epoch 86/100\n",
      "89/89 [==============================] - 1s 14ms/step - loss: 7.5355e-05\n",
      "Epoch 87/100\n",
      "89/89 [==============================] - 1s 14ms/step - loss: 1.1431e-04\n",
      "Epoch 88/100\n",
      "89/89 [==============================] - 1s 15ms/step - loss: 7.5712e-05\n",
      "Epoch 89/100\n"
     ]
    },
    {
     "name": "stdout",
     "output_type": "stream",
     "text": [
      "89/89 [==============================] - 1s 14ms/step - loss: 7.7498e-05\n",
      "Epoch 90/100\n",
      "89/89 [==============================] - 1s 15ms/step - loss: 6.7291e-05\n",
      "Epoch 91/100\n",
      "89/89 [==============================] - 1s 14ms/step - loss: 7.1443e-05\n",
      "Epoch 92/100\n",
      "89/89 [==============================] - 1s 14ms/step - loss: 7.0055e-05\n",
      "Epoch 93/100\n",
      "89/89 [==============================] - 1s 14ms/step - loss: 7.6709e-05\n",
      "Epoch 94/100\n",
      "89/89 [==============================] - 1s 14ms/step - loss: 9.6262e-05\n",
      "Epoch 95/100\n",
      "89/89 [==============================] - 1s 14ms/step - loss: 1.2726e-04\n",
      "Epoch 96/100\n",
      "89/89 [==============================] - 1s 15ms/step - loss: 7.7691e-05\n",
      "Epoch 97/100\n",
      "89/89 [==============================] - 1s 15ms/step - loss: 9.1773e-05\n",
      "Epoch 98/100\n",
      "89/89 [==============================] - 1s 13ms/step - loss: 6.7112e-05\n",
      "Epoch 99/100\n",
      "89/89 [==============================] - 1s 14ms/step - loss: 7.1307e-05\n",
      "Epoch 100/100\n",
      "89/89 [==============================] - 1s 15ms/step - loss: 8.5112e-05\n"
     ]
    },
    {
     "data": {
      "text/plain": [
       "<tensorflow.python.keras.callbacks.History at 0x7ff17c335d00>"
      ]
     },
     "execution_count": 22,
     "metadata": {},
     "output_type": "execute_result"
    }
   ],
   "source": [
    "#compile and training our model\n",
    "model.compile(loss = 'mean_squared_error', optimizer = 'adam')\n",
    "model.fit(train_X, train_y, epochs = 100, batch_size = 32, verbose =1)"
   ]
  },
  {
   "cell_type": "code",
   "execution_count": 23,
   "id": "58442748",
   "metadata": {
    "scrolled": false
   },
   "outputs": [
    {
     "name": "stdout",
     "output_type": "stream",
     "text": [
      "WARNING:tensorflow:Model was constructed with shape (None, 1, 1) for input KerasTensor(type_spec=TensorSpec(shape=(None, 1, 1), dtype=tf.float32, name='simple_rnn_input'), name='simple_rnn_input', description=\"created by layer 'simple_rnn_input'\"), but it was called on an input with incompatible shape (None, 50, 1).\n"
     ]
    },
    {
     "data": {
      "image/png": "[encoded data removed]",
      "text/plain": [
       "<Figure size 800x400 with 1 Axes>"
      ]
     },
     "metadata": {},
     "output_type": "display_data"
    }
   ],
   "source": [
    "#prediction\n",
    "pred = model.predict(test_X)\n",
    "pred = mm.inverse_transform(pred)\n",
    "\n",
    "#plotting\n",
    "plt.figure(figsize = (10,5), dpi = 80, facecolor = 'w', edgecolor = 'k')\n",
    "plt.plot(Test, color = 'k', label = 'Actual price')\n",
    "plt.plot(pred, color = 'r', label = 'Predicted price')\n",
    "plt.legend()\n",
    "plt.grid(True)\n",
    "plt.show()\n"
   ]
  },
  {
   "cell_type": "markdown",
   "id": "73fc2e9e",
   "metadata": {},
   "source": [
    " As we can notice, our model did not do much bad and but it can be lot better\n",
    " "
   ]
  },
  {
   "cell_type": "markdown",
   "id": "e89b0deb",
   "metadata": {},
   "source": [
    "# LSTM"
   ]
  },
  {
   "cell_type": "code",
   "execution_count": 24,
   "id": "851cb5de",
   "metadata": {
    "scrolled": true
   },
   "outputs": [],
   "source": [
    "model2 = Sequential()\n",
    "model2.add(LSTM(70, activation = 'tanh',\n",
    "              input_shape = (train_X.shape[1],1)))\n",
    "model2.add(Dense(1))\n"
   ]
  },
  {
   "cell_type": "code",
   "execution_count": 25,
   "id": "171e367e",
   "metadata": {},
   "outputs": [
    {
     "name": "stdout",
     "output_type": "stream",
     "text": [
      "Model: \"sequential_1\"\n",
      "_________________________________________________________________\n",
      "Layer (type)                 Output Shape              Param #   \n",
      "=================================================================\n",
      "lstm (LSTM)                  (None, 70)                20160     \n",
      "_________________________________________________________________\n",
      "dense_1 (Dense)              (None, 1)                 71        \n",
      "=================================================================\n",
      "Total params: 20,231\n",
      "Trainable params: 20,231\n",
      "Non-trainable params: 0\n",
      "_________________________________________________________________\n"
     ]
    }
   ],
   "source": [
    "#summary\n",
    "model2.summary()"
   ]
  },
  {
   "cell_type": "code",
   "execution_count": 26,
   "id": "7b5681f4",
   "metadata": {},
   "outputs": [],
   "source": [
    "warnings.filterwarnings(action='once')\n"
   ]
  },
  {
   "cell_type": "code",
   "execution_count": 27,
   "id": "657d3230",
   "metadata": {
    "scrolled": true
   },
   "outputs": [
    {
     "name": "stdout",
     "output_type": "stream",
     "text": [
      "Epoch 1/100\n",
      "89/89 [==============================] - 3s 18ms/step - loss: 0.0046\n",
      "Epoch 2/100\n",
      "89/89 [==============================] - 2s 19ms/step - loss: 1.8993e-04\n",
      "Epoch 3/100\n",
      "89/89 [==============================] - 2s 19ms/step - loss: 1.8283e-04\n",
      "Epoch 4/100\n",
      "89/89 [==============================] - 2s 19ms/step - loss: 1.8659e-04\n",
      "Epoch 5/100\n",
      "89/89 [==============================] - 2s 19ms/step - loss: 1.7127e-04\n",
      "Epoch 6/100\n",
      "89/89 [==============================] - 2s 19ms/step - loss: 1.7132e-04\n",
      "Epoch 7/100\n",
      "89/89 [==============================] - 2s 20ms/step - loss: 1.6876e-04\n",
      "Epoch 8/100\n",
      "89/89 [==============================] - 2s 19ms/step - loss: 1.5216e-04\n",
      "Epoch 9/100\n",
      "89/89 [==============================] - 2s 18ms/step - loss: 1.6959e-04\n",
      "Epoch 10/100\n",
      "89/89 [==============================] - 2s 20ms/step - loss: 1.4443e-04\n",
      "Epoch 11/100\n",
      "89/89 [==============================] - 2s 18ms/step - loss: 1.4072e-04\n",
      "Epoch 12/100\n",
      "89/89 [==============================] - 2s 19ms/step - loss: 1.4097e-04\n",
      "Epoch 13/100\n",
      "89/89 [==============================] - 2s 19ms/step - loss: 1.3925e-04\n",
      "Epoch 14/100\n",
      "89/89 [==============================] - 1s 16ms/step - loss: 1.2603e-04\n",
      "Epoch 15/100\n",
      "89/89 [==============================] - 1s 16ms/step - loss: 1.2192e-04\n",
      "Epoch 16/100\n",
      "89/89 [==============================] - 1s 16ms/step - loss: 1.2284e-04\n",
      "Epoch 17/100\n",
      "89/89 [==============================] - 1s 16ms/step - loss: 1.1667e-04\n",
      "Epoch 18/100\n",
      "89/89 [==============================] - 1s 17ms/step - loss: 1.2150e-04\n",
      "Epoch 19/100\n",
      "89/89 [==============================] - 2s 17ms/step - loss: 1.1163e-04\n",
      "Epoch 20/100\n",
      "89/89 [==============================] - 2s 19ms/step - loss: 1.3174e-04\n",
      "Epoch 21/100\n",
      "89/89 [==============================] - 2s 17ms/step - loss: 1.1338e-04\n",
      "Epoch 22/100\n",
      "89/89 [==============================] - 2s 18ms/step - loss: 1.0809e-04\n",
      "Epoch 23/100\n",
      "89/89 [==============================] - 2s 19ms/step - loss: 1.2735e-04\n",
      "Epoch 24/100\n",
      "89/89 [==============================] - 2s 18ms/step - loss: 1.0714e-04\n",
      "Epoch 25/100\n",
      "89/89 [==============================] - 1s 17ms/step - loss: 1.2415e-04\n",
      "Epoch 26/100\n",
      "89/89 [==============================] - 2s 19ms/step - loss: 1.1525e-04\n",
      "Epoch 27/100\n",
      "89/89 [==============================] - 2s 21ms/step - loss: 1.0862e-04\n",
      "Epoch 28/100\n",
      "89/89 [==============================] - 2s 19ms/step - loss: 1.1864e-04\n",
      "Epoch 29/100\n",
      "89/89 [==============================] - 2s 17ms/step - loss: 1.0604e-04\n",
      "Epoch 30/100\n",
      "89/89 [==============================] - 2s 17ms/step - loss: 9.6262e-05\n",
      "Epoch 31/100\n",
      "89/89 [==============================] - 2s 20ms/step - loss: 8.8255e-05\n",
      "Epoch 32/100\n",
      "89/89 [==============================] - 2s 19ms/step - loss: 9.5978e-05\n",
      "Epoch 33/100\n",
      "89/89 [==============================] - 2s 17ms/step - loss: 9.2796e-05\n",
      "Epoch 34/100\n",
      "89/89 [==============================] - 2s 18ms/step - loss: 8.9740e-05\n",
      "Epoch 35/100\n",
      "89/89 [==============================] - 2s 18ms/step - loss: 9.8164e-05\n",
      "Epoch 36/100\n",
      "89/89 [==============================] - 2s 18ms/step - loss: 9.7816e-05\n",
      "Epoch 37/100\n",
      "89/89 [==============================] - 1s 16ms/step - loss: 8.8020e-05\n",
      "Epoch 38/100\n",
      "89/89 [==============================] - 1s 16ms/step - loss: 9.0158e-05\n",
      "Epoch 39/100\n",
      "89/89 [==============================] - 2s 19ms/step - loss: 8.4493e-05\n",
      "Epoch 40/100\n",
      "89/89 [==============================] - 1s 16ms/step - loss: 7.9671e-05\n",
      "Epoch 41/100\n",
      "89/89 [==============================] - 1s 16ms/step - loss: 9.1756e-05\n",
      "Epoch 42/100\n",
      "89/89 [==============================] - 1s 16ms/step - loss: 9.1160e-05\n",
      "Epoch 43/100\n",
      "89/89 [==============================] - 1s 16ms/step - loss: 8.0053e-05\n",
      "Epoch 44/100\n",
      "89/89 [==============================] - 1s 16ms/step - loss: 8.3643e-05\n",
      "Epoch 45/100\n",
      "89/89 [==============================] - 1s 16ms/step - loss: 8.2057e-05\n",
      "Epoch 46/100\n",
      "89/89 [==============================] - 1s 16ms/step - loss: 7.9423e-05\n",
      "Epoch 47/100\n",
      "89/89 [==============================] - 1s 16ms/step - loss: 7.9796e-05\n",
      "Epoch 48/100\n",
      "89/89 [==============================] - 1s 16ms/step - loss: 7.5080e-05\n",
      "Epoch 49/100\n",
      "89/89 [==============================] - 1s 16ms/step - loss: 7.6106e-05\n",
      "Epoch 50/100\n",
      "89/89 [==============================] - 1s 16ms/step - loss: 7.1026e-05\n",
      "Epoch 51/100\n",
      "89/89 [==============================] - 1s 16ms/step - loss: 7.5812e-05\n",
      "Epoch 52/100\n",
      "89/89 [==============================] - 1s 16ms/step - loss: 7.0029e-05\n",
      "Epoch 53/100\n",
      "89/89 [==============================] - 2s 18ms/step - loss: 7.4772e-05\n",
      "Epoch 54/100\n",
      "89/89 [==============================] - 1s 16ms/step - loss: 7.3409e-05\n",
      "Epoch 55/100\n",
      "89/89 [==============================] - 1s 16ms/step - loss: 8.6907e-05\n",
      "Epoch 56/100\n",
      "89/89 [==============================] - 1s 16ms/step - loss: 7.2678e-05\n",
      "Epoch 57/100\n",
      "89/89 [==============================] - 1s 16ms/step - loss: 8.3860e-05\n",
      "Epoch 58/100\n",
      "89/89 [==============================] - 1s 16ms/step - loss: 7.5659e-05\n",
      "Epoch 59/100\n",
      "89/89 [==============================] - 1s 16ms/step - loss: 6.9479e-05\n",
      "Epoch 60/100\n",
      "89/89 [==============================] - 1s 16ms/step - loss: 6.5438e-05\n",
      "Epoch 61/100\n",
      "89/89 [==============================] - 1s 16ms/step - loss: 8.4701e-05\n",
      "Epoch 62/100\n",
      "89/89 [==============================] - 1s 16ms/step - loss: 6.7830e-05\n",
      "Epoch 63/100\n",
      "89/89 [==============================] - 1s 16ms/step - loss: 7.4796e-05\n",
      "Epoch 64/100\n",
      "89/89 [==============================] - 1s 17ms/step - loss: 6.9165e-05\n",
      "Epoch 65/100\n",
      "89/89 [==============================] - 1s 16ms/step - loss: 7.0881e-05\n",
      "Epoch 66/100\n",
      "89/89 [==============================] - 1s 16ms/step - loss: 6.6987e-05\n",
      "Epoch 67/100\n",
      "89/89 [==============================] - 1s 16ms/step - loss: 6.5461e-05\n",
      "Epoch 68/100\n",
      "89/89 [==============================] - 1s 16ms/step - loss: 6.2574e-05\n",
      "Epoch 69/100\n",
      "89/89 [==============================] - 1s 16ms/step - loss: 6.6361e-05\n",
      "Epoch 70/100\n",
      "89/89 [==============================] - 1s 16ms/step - loss: 6.9646e-05\n",
      "Epoch 71/100\n",
      "89/89 [==============================] - 1s 16ms/step - loss: 6.8254e-05\n",
      "Epoch 72/100\n",
      "89/89 [==============================] - 1s 16ms/step - loss: 6.4871e-05\n",
      "Epoch 73/100\n",
      "89/89 [==============================] - 2s 17ms/step - loss: 6.8158e-05\n",
      "Epoch 74/100\n",
      "89/89 [==============================] - 1s 16ms/step - loss: 6.9390e-05\n",
      "Epoch 75/100\n",
      "89/89 [==============================] - 1s 16ms/step - loss: 6.4253e-05\n",
      "Epoch 76/100\n",
      "89/89 [==============================] - 2s 19ms/step - loss: 6.5200e-05\n",
      "Epoch 77/100\n",
      "89/89 [==============================] - 2s 17ms/step - loss: 7.6381e-05\n",
      "Epoch 78/100\n",
      "89/89 [==============================] - 2s 17ms/step - loss: 7.3471e-05\n",
      "Epoch 79/100\n",
      "89/89 [==============================] - 2s 18ms/step - loss: 6.8021e-05\n",
      "Epoch 80/100\n",
      "89/89 [==============================] - 2s 19ms/step - loss: 6.1860e-05\n",
      "Epoch 81/100\n",
      "89/89 [==============================] - 2s 18ms/step - loss: 8.3286e-05\n",
      "Epoch 82/100\n",
      "89/89 [==============================] - 2s 18ms/step - loss: 6.0359e-05\n",
      "Epoch 83/100\n",
      "89/89 [==============================] - 1s 17ms/step - loss: 6.7274e-05\n",
      "Epoch 84/100\n",
      "89/89 [==============================] - 1s 16ms/step - loss: 6.5874e-05\n",
      "Epoch 85/100\n",
      "89/89 [==============================] - 1s 16ms/step - loss: 7.0822e-05\n",
      "Epoch 86/100\n",
      "89/89 [==============================] - 1s 16ms/step - loss: 6.1058e-05\n",
      "Epoch 87/100\n",
      "89/89 [==============================] - 1s 16ms/step - loss: 6.4529e-05\n",
      "Epoch 88/100\n",
      "89/89 [==============================] - 1s 17ms/step - loss: 6.7185e-05\n",
      "Epoch 89/100\n",
      "89/89 [==============================] - 1s 17ms/step - loss: 6.2805e-05\n",
      "Epoch 90/100\n",
      "89/89 [==============================] - 2s 17ms/step - loss: 5.9999e-05\n",
      "Epoch 91/100\n",
      "89/89 [==============================] - 1s 16ms/step - loss: 7.0946e-05\n",
      "Epoch 92/100\n",
      "89/89 [==============================] - 1s 17ms/step - loss: 6.4501e-05\n",
      "Epoch 93/100\n",
      "89/89 [==============================] - 1s 17ms/step - loss: 6.5575e-05\n",
      "Epoch 94/100\n",
      "89/89 [==============================] - 1s 16ms/step - loss: 6.6955e-05\n",
      "Epoch 95/100\n",
      "89/89 [==============================] - 1s 16ms/step - loss: 6.2410e-05\n",
      "Epoch 96/100\n"
     ]
    },
    {
     "name": "stdout",
     "output_type": "stream",
     "text": [
      "89/89 [==============================] - 1s 16ms/step - loss: 6.4358e-05\n",
      "Epoch 97/100\n",
      "89/89 [==============================] - 1s 15ms/step - loss: 5.9764e-05\n",
      "Epoch 98/100\n",
      "89/89 [==============================] - 1s 15ms/step - loss: 6.7509e-05\n",
      "Epoch 99/100\n",
      "89/89 [==============================] - 1s 16ms/step - loss: 7.1870e-05\n",
      "Epoch 100/100\n",
      "89/89 [==============================] - 1s 16ms/step - loss: 5.9764e-05\n"
     ]
    },
    {
     "data": {
      "text/plain": [
       "<tensorflow.python.keras.callbacks.History at 0x7ff15ec0b520>"
      ]
     },
     "execution_count": 27,
     "metadata": {},
     "output_type": "execute_result"
    }
   ],
   "source": [
    "#compiling and fitting\n",
    "model2.compile(loss = 'mean_squared_error', optimizer = 'adam')\n",
    "model2.fit(train_X, train_y, epochs = 100, batch_size =32, verbose =1)"
   ]
  },
  {
   "cell_type": "code",
   "execution_count": 28,
   "id": "f2b7f4ab",
   "metadata": {
    "scrolled": true
   },
   "outputs": [
    {
     "data": {
      "image/png": "[encoded data removed]",
      "text/plain": [
       "<Figure size 800x400 with 1 Axes>"
      ]
     },
     "metadata": {},
     "output_type": "display_data"
    }
   ],
   "source": [
    "#predicting and plotting \n",
    "\n",
    "pred_2 = model2.predict(test_X)\n",
    "pred_2 = mm.inverse_transform(pred_2)\n",
    "\n",
    "plt.figure(figsize = (10,5), dpi =80, facecolor = 'w', edgecolor = 'k')\n",
    "plt.plot(Test, color = 'k', label = 'Actual price')\n",
    "plt.plot(pred_2, color = 'r', label = 'Predicted price')\n",
    "plt.legend()\n",
    "plt.grid(True)\n",
    "plt.show()"
   ]
  },
  {
   "cell_type": "markdown",
   "id": "ca61f626",
   "metadata": {},
   "source": [
    "# Conclusion\n",
    "\n",
    "As one can notice LSTM did fairly well reducing the error and predicting it close to our actual value compared to RNN\n",
    "and the main reason would be that over a long period simple RNN model are more prone to \"Vanishing Gradients\" \n",
    "Hence, they are not able to keep hold of past memory \n",
    "\n",
    "Above problem has been solved by LSTM which remembers significant parameters and holds them for long period of time \n",
    "compared to Simple RNN"
   ]
  },
  {
   "cell_type": "markdown",
   "id": "df75c946",
   "metadata": {},
   "source": [
    "# Next Step\n",
    "\n",
    "- To ensure better prediction, we can use more epochs while training our model with both RNN and LSTM \n",
    "- We can construct more efficient RNN and LSTM model architecture to get better results\n",
    "- We can use more data for training and try predict out on holdout set"
   ]
  }
 ],
 "metadata": {
  "kernelspec": {
   "display_name": "Python 3 (ipykernel)",
   "language": "python",
   "name": "python3"
  },
  "language_info": {
   "codemirror_mode": {
    "name": "ipython",
    "version": 3
   },
   "file_extension": ".py",
   "mimetype": "text/x-python",
   "name": "python",
   "nbconvert_exporter": "python",
   "pygments_lexer": "ipython3",
   "version": "3.9.7"
  }
 },
 "nbformat": 4,
 "nbformat_minor": 5
}
