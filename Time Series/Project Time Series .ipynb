{
 "cells": [
  {
   "cell_type": "markdown",
   "id": "8b38c57f",
   "metadata": {},
   "source": [
    "# Time Series Analysis \n",
    "\n",
    "\n",
    "This is a Dataset for Stock Prediction on Apple Inc and it is taken from Kaggle for project purpose. This dataset start from 1980 to 2021 . It was collected from Yahoo Finance. \n",
    "\n",
    "In this notebook we will apply deep learning technics like Recurrent Neural Networks (RNN) and Long-Short Term Memory (LSTM) to forecast and predict market stock price."
   ]
  },
  {
   "cell_type": "markdown",
   "id": "c72409bc",
   "metadata": {},
   "source": [
    "# Importing Necessary Libraries \n"
   ]
  },
  {
   "cell_type": "code",
   "execution_count": 1,
   "id": "44159380",
   "metadata": {},
   "outputs": [],
   "source": [
    "import numpy as np \n",
    "import pandas as pd \n",
    "import matplotlib.pyplot as plt \n",
    "\n",
    "from datetime import datetime\n",
    "\n",
    "import warnings \n",
    "warnings.filterwarnings('ignore')\n",
    "\n",
    "import tensorflow as tf\n",
    "from tensorflow.keras.models import Sequential\n",
    "from tensorflow.keras.layers import SimpleRNN, LSTM, Dense, Activation , Dropout\n",
    "import math\n",
    "\n",
    "from sklearn.preprocessing import MinMaxScaler\n",
    "from sklearn.metrics import mean_squared_error\n"
   ]
  },
  {
   "cell_type": "code",
   "execution_count": 2,
   "id": "6e04d3b5",
   "metadata": {
    "scrolled": true
   },
   "outputs": [
    {
     "data": {
      "text/html": [
       "<div>\n",
       "<style scoped>\n",
       "    .dataframe tbody tr th:only-of-type {\n",
       "        vertical-align: middle;\n",
       "    }\n",
       "\n",
       "    .dataframe tbody tr th {\n",
       "        vertical-align: top;\n",
       "    }\n",
       "\n",
       "    .dataframe thead th {\n",
       "        text-align: right;\n",
       "    }\n",
       "</style>\n",
       "<table border=\"1\" class=\"dataframe\">\n",
       "  <thead>\n",
       "    <tr style=\"text-align: right;\">\n",
       "      <th></th>\n",
       "      <th>Date</th>\n",
       "      <th>Open</th>\n",
       "      <th>High</th>\n",
       "      <th>Low</th>\n",
       "      <th>Close</th>\n",
       "      <th>Adj Close</th>\n",
       "      <th>Volume</th>\n",
       "    </tr>\n",
       "  </thead>\n",
       "  <tbody>\n",
       "    <tr>\n",
       "      <th>0</th>\n",
       "      <td>1980-12-12</td>\n",
       "      <td>0.128348</td>\n",
       "      <td>0.128906</td>\n",
       "      <td>0.128348</td>\n",
       "      <td>0.128348</td>\n",
       "      <td>0.100600</td>\n",
       "      <td>469033600</td>\n",
       "    </tr>\n",
       "    <tr>\n",
       "      <th>1</th>\n",
       "      <td>1980-12-15</td>\n",
       "      <td>0.122210</td>\n",
       "      <td>0.122210</td>\n",
       "      <td>0.121652</td>\n",
       "      <td>0.121652</td>\n",
       "      <td>0.095352</td>\n",
       "      <td>175884800</td>\n",
       "    </tr>\n",
       "    <tr>\n",
       "      <th>2</th>\n",
       "      <td>1980-12-16</td>\n",
       "      <td>0.113281</td>\n",
       "      <td>0.113281</td>\n",
       "      <td>0.112723</td>\n",
       "      <td>0.112723</td>\n",
       "      <td>0.088353</td>\n",
       "      <td>105728000</td>\n",
       "    </tr>\n",
       "    <tr>\n",
       "      <th>3</th>\n",
       "      <td>1980-12-17</td>\n",
       "      <td>0.115513</td>\n",
       "      <td>0.116071</td>\n",
       "      <td>0.115513</td>\n",
       "      <td>0.115513</td>\n",
       "      <td>0.090540</td>\n",
       "      <td>86441600</td>\n",
       "    </tr>\n",
       "    <tr>\n",
       "      <th>4</th>\n",
       "      <td>1980-12-18</td>\n",
       "      <td>0.118862</td>\n",
       "      <td>0.119420</td>\n",
       "      <td>0.118862</td>\n",
       "      <td>0.118862</td>\n",
       "      <td>0.093165</td>\n",
       "      <td>73449600</td>\n",
       "    </tr>\n",
       "    <tr>\n",
       "      <th>...</th>\n",
       "      <td>...</td>\n",
       "      <td>...</td>\n",
       "      <td>...</td>\n",
       "      <td>...</td>\n",
       "      <td>...</td>\n",
       "      <td>...</td>\n",
       "      <td>...</td>\n",
       "    </tr>\n",
       "    <tr>\n",
       "      <th>10267</th>\n",
       "      <td>2021-09-01</td>\n",
       "      <td>152.830002</td>\n",
       "      <td>154.979996</td>\n",
       "      <td>152.339996</td>\n",
       "      <td>152.509995</td>\n",
       "      <td>152.509995</td>\n",
       "      <td>80313700</td>\n",
       "    </tr>\n",
       "    <tr>\n",
       "      <th>10268</th>\n",
       "      <td>2021-09-02</td>\n",
       "      <td>153.869995</td>\n",
       "      <td>154.720001</td>\n",
       "      <td>152.399994</td>\n",
       "      <td>153.649994</td>\n",
       "      <td>153.649994</td>\n",
       "      <td>71115500</td>\n",
       "    </tr>\n",
       "    <tr>\n",
       "      <th>10269</th>\n",
       "      <td>2021-09-03</td>\n",
       "      <td>153.759995</td>\n",
       "      <td>154.630005</td>\n",
       "      <td>153.089996</td>\n",
       "      <td>154.300003</td>\n",
       "      <td>154.300003</td>\n",
       "      <td>57808700</td>\n",
       "    </tr>\n",
       "    <tr>\n",
       "      <th>10270</th>\n",
       "      <td>2021-09-07</td>\n",
       "      <td>154.970001</td>\n",
       "      <td>157.259995</td>\n",
       "      <td>154.389999</td>\n",
       "      <td>156.690002</td>\n",
       "      <td>156.690002</td>\n",
       "      <td>82278300</td>\n",
       "    </tr>\n",
       "    <tr>\n",
       "      <th>10271</th>\n",
       "      <td>2021-09-08</td>\n",
       "      <td>156.979996</td>\n",
       "      <td>157.039993</td>\n",
       "      <td>153.979996</td>\n",
       "      <td>155.110001</td>\n",
       "      <td>155.110001</td>\n",
       "      <td>74347200</td>\n",
       "    </tr>\n",
       "  </tbody>\n",
       "</table>\n",
       "<p>10272 rows × 7 columns</p>\n",
       "</div>"
      ],
      "text/plain": [
       "             Date        Open        High         Low       Close   Adj Close  \\\n",
       "0      1980-12-12    0.128348    0.128906    0.128348    0.128348    0.100600   \n",
       "1      1980-12-15    0.122210    0.122210    0.121652    0.121652    0.095352   \n",
       "2      1980-12-16    0.113281    0.113281    0.112723    0.112723    0.088353   \n",
       "3      1980-12-17    0.115513    0.116071    0.115513    0.115513    0.090540   \n",
       "4      1980-12-18    0.118862    0.119420    0.118862    0.118862    0.093165   \n",
       "...           ...         ...         ...         ...         ...         ...   \n",
       "10267  2021-09-01  152.830002  154.979996  152.339996  152.509995  152.509995   \n",
       "10268  2021-09-02  153.869995  154.720001  152.399994  153.649994  153.649994   \n",
       "10269  2021-09-03  153.759995  154.630005  153.089996  154.300003  154.300003   \n",
       "10270  2021-09-07  154.970001  157.259995  154.389999  156.690002  156.690002   \n",
       "10271  2021-09-08  156.979996  157.039993  153.979996  155.110001  155.110001   \n",
       "\n",
       "          Volume  \n",
       "0      469033600  \n",
       "1      175884800  \n",
       "2      105728000  \n",
       "3       86441600  \n",
       "4       73449600  \n",
       "...          ...  \n",
       "10267   80313700  \n",
       "10268   71115500  \n",
       "10269   57808700  \n",
       "10270   82278300  \n",
       "10271   74347200  \n",
       "\n",
       "[10272 rows x 7 columns]"
      ]
     },
     "execution_count": 2,
     "metadata": {},
     "output_type": "execute_result"
    }
   ],
   "source": [
    "data = pd.read_csv('AAPL.csv')\n",
    "data\n"
   ]
  },
  {
   "cell_type": "markdown",
   "id": "e4947a13",
   "metadata": {},
   "source": [
    "# Feature Analysis \n",
    "\n",
    "<b>Date</b> = Date from 1980 to 2021\n",
    "\n",
    "<b>Open</b> = It is the price at which the financial security opens in the market when trading begins\n",
    "\n",
    "<b>High</b> = The high is the highest price at which a stock traded during a period.\n",
    "\n",
    "<b>Low</b> = Low is the minimum price of a stock in a period\n",
    "\n",
    "<b>Close</b> = Closing price generally refers to the last price at which a stock trades during a regular trading                      session\n",
    "\n",
    "<b>Adj Close</b> = The adjusted closing price amends a stock's closing price to reflect that stock's value after                          accounting for any\n",
    "\n",
    "<b>Volume</b> = Volume measures the number of shares traded in a stock or contracts traded in futures or options.\n",
    "\n",
    "\n",
    "\n"
   ]
  },
  {
   "cell_type": "markdown",
   "id": "d2fbd5aa",
   "metadata": {},
   "source": [
    "Here we are predicting on 'Close' Variable using Deep learning models"
   ]
  },
  {
   "cell_type": "markdown",
   "id": "5d5b5b70",
   "metadata": {},
   "source": [
    "Let's check for the null value first \n"
   ]
  },
  {
   "cell_type": "code",
   "execution_count": 3,
   "id": "fafa243a",
   "metadata": {},
   "outputs": [
    {
     "data": {
      "text/plain": [
       "0"
      ]
     },
     "execution_count": 3,
     "metadata": {},
     "output_type": "execute_result"
    }
   ],
   "source": [
    "data.Close.isnull().sum()"
   ]
  },
  {
   "cell_type": "code",
   "execution_count": 4,
   "id": "45fef7b0",
   "metadata": {
    "scrolled": false
   },
   "outputs": [
    {
     "data": {
      "text/html": [
       "<div>\n",
       "<style scoped>\n",
       "    .dataframe tbody tr th:only-of-type {\n",
       "        vertical-align: middle;\n",
       "    }\n",
       "\n",
       "    .dataframe tbody tr th {\n",
       "        vertical-align: top;\n",
       "    }\n",
       "\n",
       "    .dataframe thead th {\n",
       "        text-align: right;\n",
       "    }\n",
       "</style>\n",
       "<table border=\"1\" class=\"dataframe\">\n",
       "  <thead>\n",
       "    <tr style=\"text-align: right;\">\n",
       "      <th></th>\n",
       "      <th>Date</th>\n",
       "      <th>Close</th>\n",
       "    </tr>\n",
       "  </thead>\n",
       "  <tbody>\n",
       "    <tr>\n",
       "      <th>0</th>\n",
       "      <td>1980-12-12</td>\n",
       "      <td>0.128348</td>\n",
       "    </tr>\n",
       "    <tr>\n",
       "      <th>1</th>\n",
       "      <td>1980-12-15</td>\n",
       "      <td>0.121652</td>\n",
       "    </tr>\n",
       "    <tr>\n",
       "      <th>2</th>\n",
       "      <td>1980-12-16</td>\n",
       "      <td>0.112723</td>\n",
       "    </tr>\n",
       "    <tr>\n",
       "      <th>3</th>\n",
       "      <td>1980-12-17</td>\n",
       "      <td>0.115513</td>\n",
       "    </tr>\n",
       "    <tr>\n",
       "      <th>4</th>\n",
       "      <td>1980-12-18</td>\n",
       "      <td>0.118862</td>\n",
       "    </tr>\n",
       "    <tr>\n",
       "      <th>...</th>\n",
       "      <td>...</td>\n",
       "      <td>...</td>\n",
       "    </tr>\n",
       "    <tr>\n",
       "      <th>10267</th>\n",
       "      <td>2021-09-01</td>\n",
       "      <td>152.509995</td>\n",
       "    </tr>\n",
       "    <tr>\n",
       "      <th>10268</th>\n",
       "      <td>2021-09-02</td>\n",
       "      <td>153.649994</td>\n",
       "    </tr>\n",
       "    <tr>\n",
       "      <th>10269</th>\n",
       "      <td>2021-09-03</td>\n",
       "      <td>154.300003</td>\n",
       "    </tr>\n",
       "    <tr>\n",
       "      <th>10270</th>\n",
       "      <td>2021-09-07</td>\n",
       "      <td>156.690002</td>\n",
       "    </tr>\n",
       "    <tr>\n",
       "      <th>10271</th>\n",
       "      <td>2021-09-08</td>\n",
       "      <td>155.110001</td>\n",
       "    </tr>\n",
       "  </tbody>\n",
       "</table>\n",
       "<p>10272 rows × 2 columns</p>\n",
       "</div>"
      ],
      "text/plain": [
       "             Date       Close\n",
       "0      1980-12-12    0.128348\n",
       "1      1980-12-15    0.121652\n",
       "2      1980-12-16    0.112723\n",
       "3      1980-12-17    0.115513\n",
       "4      1980-12-18    0.118862\n",
       "...           ...         ...\n",
       "10267  2021-09-01  152.509995\n",
       "10268  2021-09-02  153.649994\n",
       "10269  2021-09-03  154.300003\n",
       "10270  2021-09-07  156.690002\n",
       "10271  2021-09-08  155.110001\n",
       "\n",
       "[10272 rows x 2 columns]"
      ]
     },
     "execution_count": 4,
     "metadata": {},
     "output_type": "execute_result"
    }
   ],
   "source": [
    "#making DataFrame \n",
    "\n",
    "df = data[['Date','Close']]\n",
    "df"
   ]
  },
  {
   "cell_type": "markdown",
   "id": "1b12a067",
   "metadata": {},
   "source": [
    "# Applying necessary Feature Transformation "
   ]
  },
  {
   "cell_type": "code",
   "execution_count": 5,
   "id": "3ac41af3",
   "metadata": {
    "scrolled": true
   },
   "outputs": [
    {
     "data": {
      "text/html": [
       "<div>\n",
       "<style scoped>\n",
       "    .dataframe tbody tr th:only-of-type {\n",
       "        vertical-align: middle;\n",
       "    }\n",
       "\n",
       "    .dataframe tbody tr th {\n",
       "        vertical-align: top;\n",
       "    }\n",
       "\n",
       "    .dataframe thead th {\n",
       "        text-align: right;\n",
       "    }\n",
       "</style>\n",
       "<table border=\"1\" class=\"dataframe\">\n",
       "  <thead>\n",
       "    <tr style=\"text-align: right;\">\n",
       "      <th></th>\n",
       "      <th>Date</th>\n",
       "      <th>Close</th>\n",
       "    </tr>\n",
       "  </thead>\n",
       "  <tbody>\n",
       "    <tr>\n",
       "      <th>0</th>\n",
       "      <td>1980-12-12</td>\n",
       "      <td>0.128348</td>\n",
       "    </tr>\n",
       "    <tr>\n",
       "      <th>1</th>\n",
       "      <td>1980-12-15</td>\n",
       "      <td>0.121652</td>\n",
       "    </tr>\n",
       "    <tr>\n",
       "      <th>2</th>\n",
       "      <td>1980-12-16</td>\n",
       "      <td>0.112723</td>\n",
       "    </tr>\n",
       "    <tr>\n",
       "      <th>3</th>\n",
       "      <td>1980-12-17</td>\n",
       "      <td>0.115513</td>\n",
       "    </tr>\n",
       "    <tr>\n",
       "      <th>4</th>\n",
       "      <td>1980-12-18</td>\n",
       "      <td>0.118862</td>\n",
       "    </tr>\n",
       "    <tr>\n",
       "      <th>...</th>\n",
       "      <td>...</td>\n",
       "      <td>...</td>\n",
       "    </tr>\n",
       "    <tr>\n",
       "      <th>10267</th>\n",
       "      <td>2021-09-01</td>\n",
       "      <td>152.509995</td>\n",
       "    </tr>\n",
       "    <tr>\n",
       "      <th>10268</th>\n",
       "      <td>2021-09-02</td>\n",
       "      <td>153.649994</td>\n",
       "    </tr>\n",
       "    <tr>\n",
       "      <th>10269</th>\n",
       "      <td>2021-09-03</td>\n",
       "      <td>154.300003</td>\n",
       "    </tr>\n",
       "    <tr>\n",
       "      <th>10270</th>\n",
       "      <td>2021-09-07</td>\n",
       "      <td>156.690002</td>\n",
       "    </tr>\n",
       "    <tr>\n",
       "      <th>10271</th>\n",
       "      <td>2021-09-08</td>\n",
       "      <td>155.110001</td>\n",
       "    </tr>\n",
       "  </tbody>\n",
       "</table>\n",
       "<p>10272 rows × 2 columns</p>\n",
       "</div>"
      ],
      "text/plain": [
       "             Date       Close\n",
       "0      1980-12-12    0.128348\n",
       "1      1980-12-15    0.121652\n",
       "2      1980-12-16    0.112723\n",
       "3      1980-12-17    0.115513\n",
       "4      1980-12-18    0.118862\n",
       "...           ...         ...\n",
       "10267  2021-09-01  152.509995\n",
       "10268  2021-09-02  153.649994\n",
       "10269  2021-09-03  154.300003\n",
       "10270  2021-09-07  156.690002\n",
       "10271  2021-09-08  155.110001\n",
       "\n",
       "[10272 rows x 2 columns]"
      ]
     },
     "execution_count": 5,
     "metadata": {},
     "output_type": "execute_result"
    }
   ],
   "source": [
    "#converting Close variable from object to float data type\n",
    "\n",
    "df['Close'] = df['Close'].apply(lambda x: float(x))\n",
    "df"
   ]
  },
  {
   "cell_type": "code",
   "execution_count": 6,
   "id": "fe07080f",
   "metadata": {},
   "outputs": [
    {
     "data": {
      "text/plain": [
       "dtype('float64')"
      ]
     },
     "execution_count": 6,
     "metadata": {},
     "output_type": "execute_result"
    }
   ],
   "source": [
    "df.Close.dtype"
   ]
  },
  {
   "cell_type": "code",
   "execution_count": 7,
   "id": "9a477224",
   "metadata": {},
   "outputs": [],
   "source": [
    "#making a datetime row with using Date Variable \n",
    "\n",
    "def make_date(row):\n",
    "    return datetime(year = int(row.split('-')[0]),\n",
    "                   month = int(row.split('-')[1]),\n",
    "                   day = int(row.split('-')[2]))\n",
    "\n",
    "df['Date'] = df['Date'].apply(make_date)\n",
    "df.set_index(df.Date, inplace = True)\n",
    "df.drop(columns = 'Date', inplace = True)\n"
   ]
  },
  {
   "cell_type": "code",
   "execution_count": 8,
   "id": "168078fe",
   "metadata": {
    "scrolled": true
   },
   "outputs": [
    {
     "data": {
      "text/html": [
       "<div>\n",
       "<style scoped>\n",
       "    .dataframe tbody tr th:only-of-type {\n",
       "        vertical-align: middle;\n",
       "    }\n",
       "\n",
       "    .dataframe tbody tr th {\n",
       "        vertical-align: top;\n",
       "    }\n",
       "\n",
       "    .dataframe thead th {\n",
       "        text-align: right;\n",
       "    }\n",
       "</style>\n",
       "<table border=\"1\" class=\"dataframe\">\n",
       "  <thead>\n",
       "    <tr style=\"text-align: right;\">\n",
       "      <th></th>\n",
       "      <th>Close</th>\n",
       "    </tr>\n",
       "    <tr>\n",
       "      <th>Date</th>\n",
       "      <th></th>\n",
       "    </tr>\n",
       "  </thead>\n",
       "  <tbody>\n",
       "    <tr>\n",
       "      <th>1980-12-12</th>\n",
       "      <td>0.128348</td>\n",
       "    </tr>\n",
       "    <tr>\n",
       "      <th>1980-12-15</th>\n",
       "      <td>0.121652</td>\n",
       "    </tr>\n",
       "    <tr>\n",
       "      <th>1980-12-16</th>\n",
       "      <td>0.112723</td>\n",
       "    </tr>\n",
       "    <tr>\n",
       "      <th>1980-12-17</th>\n",
       "      <td>0.115513</td>\n",
       "    </tr>\n",
       "    <tr>\n",
       "      <th>1980-12-18</th>\n",
       "      <td>0.118862</td>\n",
       "    </tr>\n",
       "  </tbody>\n",
       "</table>\n",
       "</div>"
      ],
      "text/plain": [
       "               Close\n",
       "Date                \n",
       "1980-12-12  0.128348\n",
       "1980-12-15  0.121652\n",
       "1980-12-16  0.112723\n",
       "1980-12-17  0.115513\n",
       "1980-12-18  0.118862"
      ]
     },
     "execution_count": 8,
     "metadata": {},
     "output_type": "execute_result"
    }
   ],
   "source": [
    "df.head()"
   ]
  },
  {
   "cell_type": "code",
   "execution_count": 9,
   "id": "4a092788",
   "metadata": {},
   "outputs": [
    {
     "data": {
      "text/plain": [
       "[<matplotlib.lines.Line2D at 0x7fbd403af070>]"
      ]
     },
     "execution_count": 9,
     "metadata": {},
     "output_type": "execute_result"
    },
    {
     "data": {
      "image/png": "[encoded data removed]",
      "text/plain": [
       "<Figure size 432x288 with 1 Axes>"
      ]
     },
     "metadata": {
      "needs_background": "light"
     },
     "output_type": "display_data"
    }
   ],
   "source": [
    "#plotting values through timestep \n",
    "\n",
    "plt.plot(df, 'r--')"
   ]
  },
  {
   "cell_type": "markdown",
   "id": "4bbad7b9",
   "metadata": {},
   "source": [
    "As we one can trend is increasing rapidly from 2010 onwards.\n",
    "So inorder to work with stable dataset we will take values from timestep 2010 to 2021"
   ]
  },
  {
   "cell_type": "code",
   "execution_count": 10,
   "id": "381a45db",
   "metadata": {
    "scrolled": true
   },
   "outputs": [
    {
     "data": {
      "text/html": [
       "<div>\n",
       "<style scoped>\n",
       "    .dataframe tbody tr th:only-of-type {\n",
       "        vertical-align: middle;\n",
       "    }\n",
       "\n",
       "    .dataframe tbody tr th {\n",
       "        vertical-align: top;\n",
       "    }\n",
       "\n",
       "    .dataframe thead th {\n",
       "        text-align: right;\n",
       "    }\n",
       "</style>\n",
       "<table border=\"1\" class=\"dataframe\">\n",
       "  <thead>\n",
       "    <tr style=\"text-align: right;\">\n",
       "      <th></th>\n",
       "      <th>Close</th>\n",
       "    </tr>\n",
       "    <tr>\n",
       "      <th>Date</th>\n",
       "      <th></th>\n",
       "    </tr>\n",
       "  </thead>\n",
       "  <tbody>\n",
       "    <tr>\n",
       "      <th>2010-01-04</th>\n",
       "      <td>7.643214</td>\n",
       "    </tr>\n",
       "    <tr>\n",
       "      <th>2010-01-05</th>\n",
       "      <td>7.656429</td>\n",
       "    </tr>\n",
       "    <tr>\n",
       "      <th>2010-01-06</th>\n",
       "      <td>7.534643</td>\n",
       "    </tr>\n",
       "    <tr>\n",
       "      <th>2010-01-07</th>\n",
       "      <td>7.520714</td>\n",
       "    </tr>\n",
       "    <tr>\n",
       "      <th>2010-01-08</th>\n",
       "      <td>7.570714</td>\n",
       "    </tr>\n",
       "    <tr>\n",
       "      <th>...</th>\n",
       "      <td>...</td>\n",
       "    </tr>\n",
       "    <tr>\n",
       "      <th>2021-09-01</th>\n",
       "      <td>152.509995</td>\n",
       "    </tr>\n",
       "    <tr>\n",
       "      <th>2021-09-02</th>\n",
       "      <td>153.649994</td>\n",
       "    </tr>\n",
       "    <tr>\n",
       "      <th>2021-09-03</th>\n",
       "      <td>154.300003</td>\n",
       "    </tr>\n",
       "    <tr>\n",
       "      <th>2021-09-07</th>\n",
       "      <td>156.690002</td>\n",
       "    </tr>\n",
       "    <tr>\n",
       "      <th>2021-09-08</th>\n",
       "      <td>155.110001</td>\n",
       "    </tr>\n",
       "  </tbody>\n",
       "</table>\n",
       "<p>2941 rows × 1 columns</p>\n",
       "</div>"
      ],
      "text/plain": [
       "                 Close\n",
       "Date                  \n",
       "2010-01-04    7.643214\n",
       "2010-01-05    7.656429\n",
       "2010-01-06    7.534643\n",
       "2010-01-07    7.520714\n",
       "2010-01-08    7.570714\n",
       "...                ...\n",
       "2021-09-01  152.509995\n",
       "2021-09-02  153.649994\n",
       "2021-09-03  154.300003\n",
       "2021-09-07  156.690002\n",
       "2021-09-08  155.110001\n",
       "\n",
       "[2941 rows x 1 columns]"
      ]
     },
     "execution_count": 10,
     "metadata": {},
     "output_type": "execute_result"
    }
   ],
   "source": [
    "#making a dataframe from timestep 2010-2021\n",
    "\n",
    "df = df[df.index > datetime(2009,12,31)]\n",
    "df"
   ]
  },
  {
   "cell_type": "code",
   "execution_count": 11,
   "id": "c4e01295",
   "metadata": {
    "scrolled": false
   },
   "outputs": [
    {
     "data": {
      "text/plain": [
       "[<matplotlib.lines.Line2D at 0x7fbd420eac40>]"
      ]
     },
     "execution_count": 11,
     "metadata": {},
     "output_type": "execute_result"
    },
    {
     "data": {
      "image/png": "[encoded data removed]",
      "text/plain": [
       "<Figure size 432x288 with 1 Axes>"
      ]
     },
     "metadata": {
      "needs_background": "light"
     },
     "output_type": "display_data"
    }
   ],
   "source": [
    "plt.plot(df, 'r--')"
   ]
  },
  {
   "cell_type": "markdown",
   "id": "69953954",
   "metadata": {},
   "source": [
    "Much better \n",
    "but we still need to apply feature scaling to make it more stable "
   ]
  },
  {
   "cell_type": "markdown",
   "id": "a6d0faab",
   "metadata": {},
   "source": [
    "# Applying feature scaling and splitting our data \n",
    "\n"
   ]
  },
  {
   "cell_type": "code",
   "execution_count": 12,
   "id": "f85d3457",
   "metadata": {},
   "outputs": [],
   "source": [
    "periods = 50 \n",
    "\n",
    "Train = df[:len(df) - periods]['Close'].values\n",
    "Test = df[len(Train):]['Close'].values\n",
    "\n",
    "Train = Train.reshape(Train.shape[0],1)\n",
    "Test = Test.reshape(Test.shape[0],1)"
   ]
  },
  {
   "cell_type": "code",
   "execution_count": 13,
   "id": "b5d3cec5",
   "metadata": {
    "scrolled": true
   },
   "outputs": [
    {
     "data": {
      "text/plain": [
       "50"
      ]
     },
     "execution_count": 13,
     "metadata": {},
     "output_type": "execute_result"
    }
   ],
   "source": [
    "len(Test)"
   ]
  },
  {
   "cell_type": "code",
   "execution_count": 14,
   "id": "49d8917e",
   "metadata": {},
   "outputs": [],
   "source": [
    "mm = MinMaxScaler(feature_range = (0,1))\n",
    "train = mm.fit_transform(Train)\n"
   ]
  },
  {
   "cell_type": "code",
   "execution_count": 15,
   "id": "71b387c0",
   "metadata": {},
   "outputs": [],
   "source": [
    "#making a train_X and train_y dataset with sets of sequence\n",
    "\n",
    "train_X = []\n",
    "train_y = []\n",
    "\n",
    "for i in range (periods, train.shape[0]):\n",
    "    train_X.append(train[i-periods:i,0])\n",
    "    train_y.append(train[i,0])\n",
    "\n",
    "train_X = np.array(train_X)\n",
    "train_X = train_X.reshape(train_X.shape[0], train_X.shape[1], 1)\n",
    "train_y = np.array(train_y)"
   ]
  },
  {
   "cell_type": "code",
   "execution_count": 16,
   "id": "8f4a3ebd",
   "metadata": {},
   "outputs": [
    {
     "name": "stdout",
     "output_type": "stream",
     "text": [
      "Training data shape: (2841, 50, 1)\n",
      "Training outcome shape: (2841,)\n"
     ]
    }
   ],
   "source": [
    "print('Training data shape: {}'.format(train_X.shape))\n",
    "print('Training outcome shape: {}'.format(train_y.shape))"
   ]
  },
  {
   "cell_type": "code",
   "execution_count": 17,
   "id": "691aa7cf",
   "metadata": {},
   "outputs": [
    {
     "data": {
      "text/plain": [
       "(50, 50, 1)"
      ]
     },
     "execution_count": 17,
     "metadata": {},
     "output_type": "execute_result"
    }
   ],
   "source": [
    "test_data = df[len(df) - len(Test) - periods:]\n",
    "test_data = mm.transform(test_data)\n",
    "\n",
    "test_X = []\n",
    "\n",
    "for i in range(periods, 100):\n",
    "    test_X.append(test_data[i-periods:i,0])\n",
    "    \n",
    "test_X = np.array(test_X)\n",
    "test_X = test_X.reshape(test_X.shape[0], test_X.shape[1], 1)\n",
    "test_X.shape"
   ]
  },
  {
   "cell_type": "markdown",
   "id": "c51ce0d8",
   "metadata": {},
   "source": [
    "# Training RNN and LSTM model \n",
    "\n",
    "- Creating Simple RNN with 50 hidden layer and LSTM with 70 hidden layer \n",
    "- Using 'mean squared error' as a loss function \n",
    "- For optimizer using 'Adam'\n",
    "- 100 epochs to train our model \n",
    "- predicting and plotting the results"
   ]
  },
  {
   "cell_type": "markdown",
   "id": "0d25e6e7",
   "metadata": {},
   "source": [
    "# RNN\n",
    "\n"
   ]
  },
  {
   "cell_type": "code",
   "execution_count": 18,
   "id": "aa21e0f7",
   "metadata": {
    "scrolled": false
   },
   "outputs": [
    {
     "name": "stderr",
     "output_type": "stream",
     "text": [
      "2022-05-07 19:27:54.268841: I tensorflow/core/platform/cpu_feature_guard.cc:142] This TensorFlow binary is optimized with oneAPI Deep Neural Network Library (oneDNN) to use the following CPU instructions in performance-critical operations:  AVX2 FMA\n",
      "To enable them in other operations, rebuild TensorFlow with the appropriate compiler flags.\n"
     ]
    }
   ],
   "source": [
    "model = Sequential()\n",
    "model.add(SimpleRNN(50, activation= 'tanh', \n",
    "                   input_shape = (train.shape[1],1), return_sequences = True))\n",
    "model.add(Dropout(0.2))\n",
    "model.add(SimpleRNN(50, activation = 'tanh',\n",
    "                   return_sequences = True))\n",
    "model.add(Dropout(0.2))\n",
    "model.add(SimpleRNN(50, activation = 'tanh',\n",
    "                   return_sequences = True))\n",
    "model.add(Dropout(0.2))\n",
    "model.add(SimpleRNN(50, activation = 'tanh'))\n",
    "\n",
    "model.add(Dense(1))\n",
    "\n",
    "\n",
    "\n"
   ]
  },
  {
   "cell_type": "code",
   "execution_count": 19,
   "id": "70941b1a",
   "metadata": {},
   "outputs": [
    {
     "name": "stdout",
     "output_type": "stream",
     "text": [
      "Model: \"sequential\"\n",
      "_________________________________________________________________\n",
      "Layer (type)                 Output Shape              Param #   \n",
      "=================================================================\n",
      "simple_rnn (SimpleRNN)       (None, 1, 50)             2600      \n",
      "_________________________________________________________________\n",
      "dropout (Dropout)            (None, 1, 50)             0         \n",
      "_________________________________________________________________\n",
      "simple_rnn_1 (SimpleRNN)     (None, 1, 50)             5050      \n",
      "_________________________________________________________________\n",
      "dropout_1 (Dropout)          (None, 1, 50)             0         \n",
      "_________________________________________________________________\n",
      "simple_rnn_2 (SimpleRNN)     (None, 1, 50)             5050      \n",
      "_________________________________________________________________\n",
      "dropout_2 (Dropout)          (None, 1, 50)             0         \n",
      "_________________________________________________________________\n",
      "simple_rnn_3 (SimpleRNN)     (None, 50)                5050      \n",
      "_________________________________________________________________\n",
      "dense (Dense)                (None, 1)                 51        \n",
      "=================================================================\n",
      "Total params: 17,801\n",
      "Trainable params: 17,801\n",
      "Non-trainable params: 0\n",
      "_________________________________________________________________\n"
     ]
    }
   ],
   "source": [
    "#Lets check how many weight paramters we have to train\n",
    "model.summary()"
   ]
  },
  {
   "cell_type": "code",
   "execution_count": null,
   "id": "aa8e5a38",
   "metadata": {},
   "outputs": [
    {
     "name": "stdout",
     "output_type": "stream",
     "text": [
      "Epoch 1/100\n",
      "WARNING:tensorflow:Model was constructed with shape (None, 1, 1) for input KerasTensor(type_spec=TensorSpec(shape=(None, 1, 1), dtype=tf.float32, name='simple_rnn_input'), name='simple_rnn_input', description=\"created by layer 'simple_rnn_input'\"), but it was called on an input with incompatible shape (None, 50, 1).\n"
     ]
    },
    {
     "name": "stderr",
     "output_type": "stream",
     "text": [
      "2022-05-07 19:27:54.507650: I tensorflow/compiler/mlir/mlir_graph_optimization_pass.cc:176] None of the MLIR Optimization Passes are enabled (registered 2)\n"
     ]
    },
    {
     "name": "stdout",
     "output_type": "stream",
     "text": [
      "WARNING:tensorflow:Model was constructed with shape (None, 1, 1) for input KerasTensor(type_spec=TensorSpec(shape=(None, 1, 1), dtype=tf.float32, name='simple_rnn_input'), name='simple_rnn_input', description=\"created by layer 'simple_rnn_input'\"), but it was called on an input with incompatible shape (None, 50, 1).\n",
      "89/89 [==============================] - 5s 34ms/step - loss: 0.0599\n",
      "Epoch 2/100\n",
      "89/89 [==============================] - 3s 33ms/step - loss: 0.0095\n",
      "Epoch 3/100\n",
      "89/89 [==============================] - 3s 32ms/step - loss: 0.0051\n",
      "Epoch 4/100\n",
      "89/89 [==============================] - 3s 32ms/step - loss: 0.0040\n",
      "Epoch 5/100\n",
      "89/89 [==============================] - 3s 28ms/step - loss: 0.0035\n",
      "Epoch 6/100\n",
      "89/89 [==============================] - 3s 31ms/step - loss: 0.0026\n",
      "Epoch 7/100\n",
      "89/89 [==============================] - 3s 31ms/step - loss: 0.0023\n",
      "Epoch 8/100\n",
      "57/89 [==================>...........] - ETA: 0s - loss: 0.0020"
     ]
    }
   ],
   "source": [
    "#compile and training our model\n",
    "model.compile(loss = 'mean_squared_error', optimizer = 'adam')\n",
    "model.fit(train_X, train_y, epochs = 100, batch_size = 32, verbose =1)"
   ]
  },
  {
   "cell_type": "code",
   "execution_count": null,
   "id": "9b933cb9",
   "metadata": {
    "scrolled": false
   },
   "outputs": [],
   "source": [
    "#prediction\n",
    "pred = model.predict(test_X)\n",
    "pred = mm.inverse_transform(pred)\n",
    "\n",
    "#plotting\n",
    "plt.figure(figsize = (10,5), dpi = 80, facecolor = 'w', edgecolor = 'k')\n",
    "plt.plot(Test, color = 'k', label = 'Actual price')\n",
    "plt.plot(pred, color = 'r', label = 'Predicted price')\n",
    "plt.legend()\n",
    "plt.grid(True)\n",
    "plt.show()\n"
   ]
  },
  {
   "cell_type": "markdown",
   "id": "b6e0e48e",
   "metadata": {},
   "source": [
    " As we can notice, our model did not do much bad and but it can be lot better\n",
    " "
   ]
  },
  {
   "cell_type": "markdown",
   "id": "834f4d0d",
   "metadata": {},
   "source": [
    "# LSTM"
   ]
  },
  {
   "cell_type": "code",
   "execution_count": null,
   "id": "cc75d4bf",
   "metadata": {
    "scrolled": true
   },
   "outputs": [],
   "source": [
    "model2 = Sequential()\n",
    "model2.add(LSTM(70, activation = 'tanh',\n",
    "              input_shape = (train_X.shape[1],1)))\n",
    "model2.add(Dense(1))\n"
   ]
  },
  {
   "cell_type": "code",
   "execution_count": null,
   "id": "5d0c2332",
   "metadata": {},
   "outputs": [],
   "source": [
    "#summary\n",
    "model2.summary()"
   ]
  },
  {
   "cell_type": "code",
   "execution_count": null,
   "id": "8df366ba",
   "metadata": {},
   "outputs": [],
   "source": [
    "#compiling and fitting\n",
    "model2.compile(loss = 'mean_squared_error', optimizer = 'adam')\n",
    "model2.fit(train_X, train_y, epochs = 100, batch_size =32, verbose =1)"
   ]
  },
  {
   "cell_type": "code",
   "execution_count": null,
   "id": "75d135cb",
   "metadata": {
    "scrolled": true
   },
   "outputs": [],
   "source": [
    "#predicting and plotting \n",
    "\n",
    "pred_2 = model2.predict(test_X)\n",
    "pred_2 = mm.inverse_transform(pred_2)\n",
    "\n",
    "plt.figure(figsize = (10,5), dpi =80, facecolor = 'w', edgecolor = 'k')\n",
    "plt.plot(Test, color = 'k', label = 'Actual price')\n",
    "plt.plot(pred_2, color = 'r', label = 'Predicted price')\n",
    "plt.legend()\n",
    "plt.grid(True)\n",
    "plt.show()"
   ]
  },
  {
   "cell_type": "markdown",
   "id": "b040c64d",
   "metadata": {},
   "source": [
    "# Conclusion\n",
    "\n",
    "As one can notice LSTM did fairly well reducing the error and predicting it close to our actual value compared to RNN\n",
    "and the main reason would be that over a long period simple RNN model are more prone to \"Vanishing Gradients\" \n",
    "Hence, they are not able to keep hold of past memory \n",
    "\n",
    "Above problem has been solved by LSTM which remembers significant parameters and holds them for long period of time \n",
    "compared to Simple RNN"
   ]
  },
  {
   "cell_type": "markdown",
   "id": "3c1f60c7",
   "metadata": {},
   "source": [
    "# Next Step\n",
    "\n",
    "- To ensure better prediction, we can use more epochs while training our model with both RNN and LSTM \n",
    "- We can construct more efficient RNN and LSTM model architecture to get better results\n",
    "- We can use more data for training and try predict out on holdout set"
   ]
  }
 ],
 "metadata": {
  "kernelspec": {
   "display_name": "Python 3 (ipykernel)",
   "language": "python",
   "name": "python3"
  },
  "language_info": {
   "codemirror_mode": {
    "name": "ipython",
    "version": 3
   },
   "file_extension": ".py",
   "mimetype": "text/x-python",
   "name": "python",
   "nbconvert_exporter": "python",
   "pygments_lexer": "ipython3",
   "version": "3.9.7"
  }
 },
 "nbformat": 4,
 "nbformat_minor": 5
}
